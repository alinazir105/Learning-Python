{
 "cells": [
  {
   "cell_type": "markdown",
   "id": "6e43df80-5e96-4109-bcf6-714f4af0e3be",
   "metadata": {},
   "source": [
    "\n",
    "# Exercise 6: Count the total number of digits in a number\n",
    "\n",
    "Write a Python program to count the total number of digits in a number using a while loop.\n",
    "\n",
    "For example, the number is 75869, so the output should be 5.\n"
   ]
  },
  {
   "cell_type": "code",
   "execution_count": 10,
   "id": "6d1e80ec-5119-40d0-b0fc-5480c9ef39d2",
   "metadata": {},
   "outputs": [
    {
     "name": "stdin",
     "output_type": "stream",
     "text": [
      "Enter a number: 75689\n"
     ]
    },
    {
     "name": "stdout",
     "output_type": "stream",
     "text": [
      "Number of digits in 75689 : 5\n"
     ]
    }
   ],
   "source": [
    "num = int(input(\"Enter a number:\"))\n",
    "remainder = num\n",
    "digits = 1\n",
    "\n",
    "while(remainder // 10 != 0):\n",
    "    remainder = remainder // 10\n",
    "    digits = digits + 1\n",
    "\n",
    "print(f\"Number of digits in {num} : {digits}\")"
   ]
  },
  {
   "cell_type": "code",
   "execution_count": 18,
   "id": "697e773c-d1e0-490c-bd80-332958d51a59",
   "metadata": {},
   "outputs": [
    {
     "name": "stdout",
     "output_type": "stream",
     "text": [
      "50\n",
      "40\n",
      "30\n",
      "20\n"
     ]
    }
   ],
   "source": [
    "list1 = [10, 20, 30, 40, 50]\n",
    "\n",
    "for i in range(-1, -len(list1), -1):\n",
    "    print(list1[i])"
   ]
  },
  {
   "cell_type": "markdown",
   "id": "a08bd3ee-ed1c-4a01-9898-a8151a67853c",
   "metadata": {},
   "source": [
    "\n",
    "# Exercise 11: Print all prime numbers within a range\n",
    "\n",
    "**Note:** A Prime Number is a number that can only be divided by itself and 1 without remainders (e.g., 2, 3, 5, 7, 11)\n",
    "\n",
    "A Prime Number is a natural number greater than 1 that cannot be made by multiplying other whole numbers.\n",
    "\n",
    "Examples:\n",
    "\n",
    " - 6 is not a prime number because it can be made by 2×3 = 6\n",
    " - 37 is a prime number because no other whole numbers multiply to make it."
   ]
  },
  {
   "cell_type": "code",
   "execution_count": 27,
   "id": "9cb4da6a-045d-40d1-bb03-bd042f5bbd85",
   "metadata": {},
   "outputs": [
    {
     "name": "stdout",
     "output_type": "stream",
     "text": [
      "29\n",
      "31\n",
      "37\n",
      "41\n",
      "43\n",
      "47\n"
     ]
    }
   ],
   "source": [
    "import math\n",
    "start = 25\n",
    "end = 50\n",
    "for i in range(start, end+1):\n",
    "    isPrime = True\n",
    "    for j in range(2, math.isqrt(i)+1):\n",
    "        if i % j == 0:\n",
    "            isPrime = False\n",
    "            break\n",
    "    if(isPrime):\n",
    "        print(i)"
   ]
  },
  {
   "cell_type": "markdown",
   "id": "b2d59069-57cf-43db-9252-41f4cf6e231e",
   "metadata": {},
   "source": [
    "\n",
    "# Exercise 12: Display Fibonacci series up to 10 terms\n",
    "\n",
    "Have you ever wondered about the Fibonacci Sequence? It’s a series of numbers in which the next number is found by adding up the two numbers before it. The first two numbers are 0 and 1.\n",
    "\n",
    "For example, 0, 1, 1, 2, 3, 5, 8, 13, 21. The next number in this series is 13 + 21 = 34.\n"
   ]
  },
  {
   "cell_type": "code",
   "execution_count": 31,
   "id": "dea7768b-b223-4865-b536-610e5f8b48be",
   "metadata": {},
   "outputs": [
    {
     "name": "stdout",
     "output_type": "stream",
     "text": [
      "[0, 1, 1, 2, 3, 5, 8, 13, 21, 34]\n"
     ]
    }
   ],
   "source": [
    "first = 0\n",
    "second = 1\n",
    "series = [first, second]\n",
    "for i in range(2, 10):\n",
    "    temp = first + second\n",
    "    first = second\n",
    "    second = temp\n",
    "    series.append(second)\n",
    "\n",
    "print(series)"
   ]
  },
  {
   "cell_type": "markdown",
   "id": "2fa9ebb8-912b-4332-843e-a096bf8cbc01",
   "metadata": {},
   "source": [
    "\n",
    "# Exercise 13: Find the factorial of a given number\n",
    "\n",
    "Write a Python program to use for loop to find the factorial of a given number.\n",
    "\n",
    "The factorial (symbol: !) means multiplying all numbers from the chosen number down to 1.\n",
    "\n",
    "For example, a factorial of 5! is 5 × 4 × 3 × 2 × 1 = 120"
   ]
  },
  {
   "cell_type": "code",
   "execution_count": 35,
   "id": "dad99385-6101-4c5d-a61b-d07d525566fe",
   "metadata": {},
   "outputs": [
    {
     "name": "stdout",
     "output_type": "stream",
     "text": [
      "5\n",
      "4\n",
      "3\n",
      "2\n",
      "Factorial of 5 : 120\n"
     ]
    }
   ],
   "source": [
    "num = 5\n",
    "factorial = 1\n",
    "\n",
    "if num == 0 or num == 1:\n",
    "    print(f\"Factorial of {num} : {factorial}\")\n",
    "else:\n",
    "    for i in range(num, 1, -1):\n",
    "        factorial = factorial * i\n",
    "    print(f\"Factorial of {num} : {factorial}\")\n"
   ]
  },
  {
   "cell_type": "markdown",
   "id": "cdfd1951-2dd1-4e42-bf9a-51c5201089d4",
   "metadata": {},
   "source": [
    "\n",
    "# Exercise 14: Reverse a integer number\n",
    "\n",
    "**Given:** 76542\n",
    "\n",
    "**Expected output:** 24567\n"
   ]
  },
  {
   "cell_type": "code",
   "execution_count": 38,
   "id": "99194a42-8b83-4aac-b67b-c2f8320afa54",
   "metadata": {},
   "outputs": [
    {
     "name": "stdout",
     "output_type": "stream",
     "text": [
      "24567\n"
     ]
    }
   ],
   "source": [
    "import math\n",
    "num = 76542\n",
    "remainder = num\n",
    "digits = 1\n",
    "\n",
    "while(remainder // 10 != 0):\n",
    "    remainder = remainder // 10\n",
    "    digits = digits + 1\n",
    "    \n",
    "reverseNum = 0\n",
    "remainder = 0\n",
    "for i in range(digits-1, -1, -1):\n",
    "    remainder = num % 10\n",
    "    reverseNum = reverseNum + (remainder * math.pow(10, i))\n",
    "    num = num // 10\n",
    "\n",
    "print(int(reverseNum))"
   ]
  },
  {
   "cell_type": "markdown",
   "id": "e8aeb2c2-9a8c-480d-9e62-6ccd4cdafd3b",
   "metadata": {},
   "source": [
    "\n",
    "# Exercise 22: Find largest and smallest digit in a number\n",
    "\n",
    "Write a program in Python identifies the digit with the highest value and the digit with the lowest value within that number.\n",
    "\n"
   ]
  },
  {
   "cell_type": "code",
   "execution_count": 43,
   "id": "58ce3873-6dfc-4d91-a7c4-970d7bd4d0b0",
   "metadata": {},
   "outputs": [
    {
     "name": "stdout",
     "output_type": "stream",
     "text": [
      "Highest Digit: 9\n",
      "Lowest Digit: 0\n"
     ]
    }
   ],
   "source": [
    "import math\n",
    "\n",
    "num = 9876543210\n",
    "maxDigit = 0\n",
    "minDigit = 9\n",
    "\n",
    "remainder = num\n",
    "digits = 1\n",
    "\n",
    "while(remainder // 10 != 0):\n",
    "    remainder = remainder // 10\n",
    "    digits = digits + 1\n",
    "\n",
    "remainder = num\n",
    "for i in range(digits):\n",
    "    if (remainder % 10) > maxDigit:\n",
    "        maxDigit = (remainder % 10)\n",
    "        \n",
    "    if (remainder % 10) < minDigit:\n",
    "        minDigit = (remainder % 10)\n",
    "        \n",
    "    remainder = remainder // 10\n",
    "\n",
    "print(f\"Highest Digit: {maxDigit}\")\n",
    "print(f\"Lowest Digit: {minDigit}\")"
   ]
  },
  {
   "cell_type": "code",
   "execution_count": null,
   "id": "47ac0e06-073b-41c3-84da-e5c955869fae",
   "metadata": {},
   "outputs": [],
   "source": []
  }
 ],
 "metadata": {
  "kernelspec": {
   "display_name": "Python [conda env:base] *",
   "language": "python",
   "name": "conda-base-py"
  },
  "language_info": {
   "codemirror_mode": {
    "name": "ipython",
    "version": 3
   },
   "file_extension": ".py",
   "mimetype": "text/x-python",
   "name": "python",
   "nbconvert_exporter": "python",
   "pygments_lexer": "ipython3",
   "version": "3.13.5"
  }
 },
 "nbformat": 4,
 "nbformat_minor": 5
}
