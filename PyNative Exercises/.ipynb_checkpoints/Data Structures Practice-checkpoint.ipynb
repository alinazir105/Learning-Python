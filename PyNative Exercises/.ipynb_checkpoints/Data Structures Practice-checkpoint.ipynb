{
 "cells": [
  {
   "cell_type": "markdown",
   "id": "099feac2-5200-4bd4-90af-3bc305128542",
   "metadata": {},
   "source": [
    "\n",
    "# Exercise 1: List Creation using two lists\n",
    "\n",
    "Write a code to create a new list using odd-indexed elements from the first list and even-indexed elements from the second\n",
    "\n",
    "Given two lists, l1 and l2, write a program to create a third list l3 by picking an odd-index element from the list l1 and even index elements from the list l2.\n",
    "\n",
    "**Given:**\n",
    "\n",
    "l1 = [3, 6, 9, 12, 15, 18, 21]\\\n",
    "l2 = [4, 8, 12, 16, 20, 24, 28]\n",
    "\n",
    "**Expected Output:**\n",
    "\n",
    "Element at odd-index positions from list one\n",
    "[6, 12, 18]\\\n",
    "Element at even-index positions from list two\n",
    "[4, 12, 20, 28]\n",
    "\n",
    "Printing Final third list\n",
    "[6, 12, 18, 4, 12, 20, 28]\n"
   ]
  },
  {
   "cell_type": "code",
   "execution_count": 3,
   "id": "bd7d83e1-105c-4a78-bd5e-c53ea8a676d2",
   "metadata": {},
   "outputs": [
    {
     "data": {
      "text/plain": [
       "[6, 12, 18, 4, 12, 20, 28]"
      ]
     },
     "execution_count": 3,
     "metadata": {},
     "output_type": "execute_result"
    }
   ],
   "source": [
    "l1 = [3, 6, 9, 12, 15, 18, 21]\n",
    "l2 = [4, 8, 12, 16, 20, 24, 28]\n",
    "\n",
    "oddL1 = []\n",
    "evenL2 = []\n",
    "\n",
    "for i in range(len(l1)):\n",
    "    if i % 2 != 0:\n",
    "        oddL1.append(l1[i])\n",
    "\n",
    "for i in range(len(l2)):\n",
    "    if i % 2 == 0:\n",
    "        evenL2.append(l2[i])\n",
    "\n",
    "l3 = oddL1 + evenL2\n",
    "l3"
   ]
  },
  {
   "cell_type": "markdown",
   "id": "e37a4cd2-7aea-48be-9af5-51c6b8674d65",
   "metadata": {},
   "source": [
    "\n",
    "# Exercise 2: Remove and add item in a list\n",
    "\n",
    "Write a program to remove the item present at index 4 and add it to the 2nd position and at the end of the list.\n",
    "\n",
    "**Given:**\n",
    "\n",
    "list1 = [54, 44, 27, 79, 91, 41]\n",
    "\n",
    "**Expected Output:**\n",
    "\n",
    "List After removing element at index 4  [34, 54, 67, 89, 43, 94]\\\n",
    "List after Adding element at index 2  [34, 54, 11, 67, 89, 43, 94]\\\n",
    "List after Adding element at last  [34, 54, 11, 67, 89, 43, 94, 11]\n"
   ]
  },
  {
   "cell_type": "code",
   "execution_count": 5,
   "id": "7898cfcf-92a6-42d6-b8dc-9db8da6e23d8",
   "metadata": {},
   "outputs": [
    {
     "data": {
      "text/plain": [
       "[54, 44, 91, 27, 79, 41, 91]"
      ]
     },
     "execution_count": 5,
     "metadata": {},
     "output_type": "execute_result"
    }
   ],
   "source": [
    "list1 = [54, 44, 27, 79, 91, 41]\n",
    "\n",
    "el = list1.pop(4)\n",
    "list1.insert(2, el)\n",
    "list1.append(el)\n",
    "\n",
    "list1"
   ]
  },
  {
   "cell_type": "markdown",
   "id": "5c62ca7b-f09e-4346-a737-97e5567d9796",
   "metadata": {},
   "source": [
    "\n",
    "# Exercise 3: Slice list into 3 equal chunks and reverse each chunk\n",
    "\n",
    "**Given:**\n",
    "\n",
    "sample_list = [11, 45, 8, 23, 14, 12, 78, 45, 89]\n",
    "\n",
    "**Expected Outcome:**\n",
    "\n",
    "Chunk  1 [11, 45, 8]\\\n",
    "After reversing it  [8, 45, 11]\n",
    "\n",
    "Chunk  2 [23, 14, 12]\\\n",
    "After reversing it  [12, 14, 23]\n",
    "\n",
    "Chunk  3 [78, 45, 89]\\\n",
    "After reversing it  [89, 45, 78]\n"
   ]
  },
  {
   "cell_type": "code",
   "execution_count": 15,
   "id": "8309eccd-2e21-4071-92ad-b183763e5ebd",
   "metadata": {},
   "outputs": [
    {
     "name": "stdout",
     "output_type": "stream",
     "text": [
      "Chunk 1: [11, 45, 8]\n",
      "After reversing it: [8, 45, 11]\n",
      "\n",
      "Chunk 2: [23, 14, 12]\n",
      "After reversing it: [12, 14, 23]\n",
      "\n",
      "Chunk 3: [78, 45, 89]\n",
      "After reversing it: [89, 45, 78]\n"
     ]
    }
   ],
   "source": [
    "l1 = [11, 45, 8, 23, 14, 12, 78, 45, 89]\n",
    "\n",
    "div = len(l1) // 3\n",
    "\n",
    "c1 = l1[:div]\n",
    "c2 = l1[div : div+div]\n",
    "c3 = l1[div+div :]\n",
    "\n",
    "print(f\"Chunk 1: {c1}\")\n",
    "c1.reverse()\n",
    "print(f\"After reversing it: {c1}\\n\")\n",
    "\n",
    "print(f\"Chunk 2: {c2}\")\n",
    "c2.reverse()\n",
    "print(f\"After reversing it: {c2}\\n\")\n",
    "\n",
    "print(f\"Chunk 3: {c3}\")\n",
    "c3.reverse()\n",
    "print(f\"After reversing it: {c3}\")\n"
   ]
  },
  {
   "cell_type": "markdown",
   "id": "914c9d21-6c61-4ba5-89fc-582b7c77c800",
   "metadata": {},
   "source": [
    "\n",
    "# Exercise 4: Count the occurrence of each element from a list\n",
    "\n",
    "Write a program to iterate a given list and count the occurrence of each element and create a dictionary to show the count of each element.\n",
    "\n",
    "**Given:**\n",
    "\n",
    "sample_list = [11, 45, 8, 11, 23, 45, 23, 45, 89]\n",
    "\n",
    "**Expected Output:**\n",
    "\n",
    "Printing count of each item   {11: 2, 45: 3, 8: 1, 23: 2, 89: 1}\n"
   ]
  },
  {
   "cell_type": "code",
   "execution_count": 16,
   "id": "0fb28e36-b9dc-4aaa-a5d6-44c9c8ccf8df",
   "metadata": {},
   "outputs": [
    {
     "data": {
      "text/plain": [
       "{11: 2, 45: 3, 8: 1, 23: 2, 89: 1}"
      ]
     },
     "execution_count": 16,
     "metadata": {},
     "output_type": "execute_result"
    }
   ],
   "source": [
    "l1 = [11, 45, 8, 11, 23, 45, 23, 45, 89]\n",
    "element_Dict = {}\n",
    "\n",
    "for key in l1:\n",
    "    element_Dict[key] = element_Dict.get(key, 0) + 1\n",
    "\n",
    "element_Dict"
   ]
  },
  {
   "cell_type": "markdown",
   "id": "ad04e783-e43f-4e24-bba1-de525757b8f0",
   "metadata": {},
   "source": [
    "\n",
    "# Exercise 5: Paired Elements from Two Lists as a Set\n",
    "\n",
    "Write a code to create a Python set such that it shows the element from both lists in a pair.\n",
    "\n",
    "**Given:**\n",
    "\n",
    "first_list = [2, 3, 4, 5, 6, 7, 8]\\\n",
    "second_list = [4, 9, 16, 25, 36, 49, 64]\n",
    "\n",
    "**Expected Output:**\n",
    "\n",
    "Result is  {(6, 36), (8, 64), (4, 16), (5, 25), (3, 9), (7, 49), (2, 4)}"
   ]
  },
  {
   "cell_type": "code",
   "execution_count": 26,
   "id": "0f690ce3-85f2-4c1b-b471-e7610dde76b1",
   "metadata": {},
   "outputs": [
    {
     "name": "stdout",
     "output_type": "stream",
     "text": [
      "{(7, 49), (2, 4), (4, 16), (8, 64), (6, 36), (3, 9), (5, 25)}\n"
     ]
    }
   ],
   "source": [
    "first_list = [2, 3, 4, 5, 6, 7, 8]\n",
    "second_list = [4, 9, 16, 25, 36, 49, 64]\n",
    "\n",
    "res = zip(first_list, second_list)\n",
    "print(set(res))"
   ]
  },
  {
   "cell_type": "markdown",
   "id": "47b77e02-83c3-4f62-a32c-30088c78bf09",
   "metadata": {},
   "source": [
    "\n",
    "# Exercise 6: Set Intersection and Removal\n",
    "\n",
    "Write a code to find the intersection (common) of two sets and remove those elements from the first set.\n",
    "\n",
    "See: Python Set\n",
    "\n",
    "**Given:**\n",
    "\n",
    "first_set = {23, 42, 65, 57, 78, 83, 29}\\\n",
    "second_set = {57, 83, 29, 67, 73, 43, 48}\n",
    "\n",
    "**Expected Output:**\n",
    "\n",
    "Intersection is  {57, 83, 29}\\\n",
    "First Set after removing common element  {65, 42, 78, 23}\n"
   ]
  },
  {
   "cell_type": "code",
   "execution_count": 30,
   "id": "e65bf47c-5887-4461-a49e-f73b9750a054",
   "metadata": {},
   "outputs": [
    {
     "name": "stdout",
     "output_type": "stream",
     "text": [
      "Intersection is: {57, 83, 29}\n",
      "First Set after removing common element: {65, 42, 78, 23}\n"
     ]
    }
   ],
   "source": [
    "first_set = {23, 42, 65, 57, 78, 83, 29}\n",
    "second_set = {57, 83, 29, 67, 73, 43, 48}\n",
    "\n",
    "intersection = first_set.intersection(second_set)\n",
    "print(f\"Intersection is: {intersection}\")\n",
    "\n",
    "first_set = first_set.difference(intersection)\n",
    "print(f\"First Set after removing common element: {first_set}\")"
   ]
  },
  {
   "cell_type": "markdown",
   "id": "6d4b4854-4b65-426a-b9d4-b64054583302",
   "metadata": {},
   "source": [
    "\n",
    "# Exercise 8: Filter List Against Dictionary Values\n",
    "\n",
    "Write a program to iterate a given list and check if a given element exists as a key’s value in a dictionary. If not, delete it from the list\n",
    "\n",
    "**Given:**\n",
    "\n",
    "roll_number = [47, 64, 69, 37, 76, 83, 95, 97]\\\n",
    "sample_dict = {'Jhon':47, 'Emma':69, 'Kelly':76, 'Jason':97}\n",
    "\n",
    "**Expected Outcome:**\n",
    "\n",
    "After removing unwanted elements from list [47, 69, 76, 97]\n"
   ]
  },
  {
   "cell_type": "code",
   "execution_count": 33,
   "id": "47c90df7-8482-4162-b5b6-08169d8e3a2e",
   "metadata": {},
   "outputs": [
    {
     "data": {
      "text/plain": [
       "[47, 69, 76, 97]"
      ]
     },
     "execution_count": 33,
     "metadata": {},
     "output_type": "execute_result"
    }
   ],
   "source": [
    "roll_number = [47, 64, 69, 37, 76, 83, 95, 97]\n",
    "sample_dict = {'Jhon':47, 'Emma':69, 'Kelly':76, 'Jason':97}\n",
    "\n",
    "new_rollNumber = []\n",
    "for item in roll_number:\n",
    "    if item in sample_dict.values():\n",
    "        new_rollNumber.append(item)\n",
    "\n",
    "new_rollNumber"
   ]
  },
  {
   "cell_type": "markdown",
   "id": "caafe2f2-fcbd-4ac5-9b0d-7bf94d0d04ce",
   "metadata": {},
   "source": [
    "# Exercise 9: Extract Unique Dictionary Values to List\n",
    "\n",
    "Write a code to get all values from the dictionary and add them to a list but don’t add duplicates\n",
    "\n",
    "**Given:**\n",
    "\n",
    "speed = {'jan': 47, 'feb': 52, 'march': 47, 'April': 44, 'May': 52, 'June': 53, 'july': 54, 'Aug': 44, 'Sept': 54}\n",
    "\n",
    "**Expected Outcome:**\n",
    "\n",
    "[47, 52, 44, 53, 54]\n"
   ]
  },
  {
   "cell_type": "code",
   "execution_count": 36,
   "id": "c9341518-5a57-4eb0-b81b-d4b43d0299e3",
   "metadata": {},
   "outputs": [
    {
     "data": {
      "text/plain": [
       "[47, 52, 44, 53, 54]"
      ]
     },
     "execution_count": 36,
     "metadata": {},
     "output_type": "execute_result"
    }
   ],
   "source": [
    "speed = {'jan': 47, 'feb': 52, 'march': 47, 'April': 44, 'May': 52, 'June': 53, 'july': 54, 'Aug': 44, 'Sept': 54}\n",
    "\n",
    "unique_values = []\n",
    "\n",
    "for value in speed.values():\n",
    "    if unique_values.count(value) < 1:\n",
    "        unique_values.append(value)\n",
    "\n",
    "unique_values"
   ]
  },
  {
   "cell_type": "markdown",
   "id": "741a6c9b-96b4-49de-ab93-538c6e29d709",
   "metadata": {},
   "source": [
    "\n",
    "# Exercise 10: remove duplicates from a list\n",
    "\n",
    "Write a code to remove duplicates from a list and create a tuple and find the minimum and maximum number\n",
    "\n",
    "**Given:**\n",
    "\n",
    "sample_list = [87, 45, 41, 65, 94, 41, 99, 94]\n",
    "\n",
    "**Expected Outcome:**\n",
    "\n",
    "unique items [87, 45, 41, 65, 99]\\\n",
    "tuple (87, 45, 41, 65, 99)\\\n",
    "min: 41\\\n",
    "max: 99\n"
   ]
  },
  {
   "cell_type": "code",
   "execution_count": 39,
   "id": "e4939842-3d4b-4839-bcb6-b12baf3e2c59",
   "metadata": {},
   "outputs": [
    {
     "name": "stdout",
     "output_type": "stream",
     "text": [
      "Unique items: [65, 99, 41, 45, 87, 94]\n",
      "Tuple: (65, 99, 41, 45, 87, 94)\n",
      "Min: 41\n",
      "Max: 99\n"
     ]
    }
   ],
   "source": [
    "list1 = [87, 45, 41, 65, 94, 41, 99, 94]\n",
    "\n",
    "set1 = set(list1)\n",
    "print(f\"Unique items: {list(set1)}\")\n",
    "\n",
    "tuple1= tuple(set1)\n",
    "print(f\"Tuple: {tuple1}\")\n",
    "\n",
    "print(f\"Min: {min(tuple1)}\")\n",
    "print(f\"Max: {max(tuple1)}\")\n"
   ]
  },
  {
   "cell_type": "code",
   "execution_count": null,
   "id": "70216b95-25cf-4a0f-819f-454a541eb1d6",
   "metadata": {},
   "outputs": [],
   "source": []
  }
 ],
 "metadata": {
  "kernelspec": {
   "display_name": "Python [conda env:base] *",
   "language": "python",
   "name": "conda-base-py"
  },
  "language_info": {
   "codemirror_mode": {
    "name": "ipython",
    "version": 3
   },
   "file_extension": ".py",
   "mimetype": "text/x-python",
   "name": "python",
   "nbconvert_exporter": "python",
   "pygments_lexer": "ipython3",
   "version": "3.13.5"
  }
 },
 "nbformat": 4,
 "nbformat_minor": 5
}
