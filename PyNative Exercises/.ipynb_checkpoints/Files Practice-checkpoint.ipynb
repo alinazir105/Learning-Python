{
 "cells": [
  {
   "cell_type": "markdown",
   "id": "32c3a115-9f9e-497a-b1ae-4dce2cf77f58",
   "metadata": {},
   "source": [
    "\n",
    "# Exercise 1: Read a File\n",
    "\n",
    "Write a Python program to read the entire contents of a text file named “sample.txt” and print it to the console.\n"
   ]
  },
  {
   "cell_type": "code",
   "execution_count": 1,
   "id": "606514e2-0c78-43c5-b07f-a19991729ee4",
   "metadata": {},
   "outputs": [
    {
     "name": "stdout",
     "output_type": "stream",
     "text": [
      "This is line 1 \n",
      "This is line 2\n",
      "This is line 3\n"
     ]
    }
   ],
   "source": [
    "with open(\"sample.txt\", \"r\") as file:\n",
    "    content = file.read()\n",
    "print(content)"
   ]
  },
  {
   "cell_type": "markdown",
   "id": "d8ab0472-057d-4d53-b40f-bf8d3649c4f4",
   "metadata": {},
   "source": [
    "\n",
    "# Exercise 2: Read File Line by Line\n",
    "\n",
    "Write a Python program to read the text file named “sample.txt” line by line and print each line.\n"
   ]
  },
  {
   "cell_type": "code",
   "execution_count": 2,
   "id": "9a1fea91-e334-4c42-86b1-24d372d2fc1d",
   "metadata": {},
   "outputs": [
    {
     "name": "stdout",
     "output_type": "stream",
     "text": [
      "This is line 1 \n",
      "\n",
      "This is line 2\n",
      "\n",
      "This is line 3\n"
     ]
    }
   ],
   "source": [
    "with open(\"sample.txt\", \"r\") as file:\n",
    "    for line in file:\n",
    "        print(line)"
   ]
  },
  {
   "cell_type": "markdown",
   "id": "83db427d-30e7-4558-bb18-21e2174d086a",
   "metadata": {},
   "source": [
    "\n",
    "# Exercise 3: Read Specific Lines From a File\n",
    "\n",
    "Write a Python program to read only the first 5 lines of “sample.txt”.\n"
   ]
  },
  {
   "cell_type": "code",
   "execution_count": 3,
   "id": "58370f7a-bffc-4527-9111-7e20a1edf676",
   "metadata": {},
   "outputs": [
    {
     "name": "stdout",
     "output_type": "stream",
     "text": [
      "This is line 1\n",
      "\n",
      "This is line 2\n",
      "\n",
      "This is line 3\n",
      "\n",
      "This is line 4\n",
      "\n",
      "This is line 5\n",
      "\n"
     ]
    }
   ],
   "source": [
    "with open(\"sample.txt\", \"r\") as file:\n",
    "    for i in range(5):\n",
    "        print(file.readline())"
   ]
  },
  {
   "cell_type": "markdown",
   "id": "c97ef11a-4eef-4518-bad4-e44b04f4df55",
   "metadata": {},
   "source": [
    "\n",
    "# Exercise 4: Count Words From a File\n",
    "\n",
    "Create a function that takes a filename as input and returns the total number of words in that file.\n"
   ]
  },
  {
   "cell_type": "code",
   "execution_count": 10,
   "id": "5428896f-f278-472f-93c4-5f8ea665797c",
   "metadata": {},
   "outputs": [
    {
     "data": {
      "text/plain": [
       "48"
      ]
     },
     "execution_count": 10,
     "metadata": {},
     "output_type": "execute_result"
    }
   ],
   "source": [
    "def countWords(fileName):\n",
    "    with open(fileName, \"r\") as file:\n",
    "        return len(file.read().split())\n",
    "\n",
    "countWords(\"sample.txt\")"
   ]
  },
  {
   "cell_type": "markdown",
   "id": "f7217806-7620-4087-996b-ef5eadf69e10",
   "metadata": {},
   "source": [
    "\n",
    "# Exercise 5: Count Total Number of Characters in File\n",
    "\n",
    "Write a function that takes a filename as input and returns the total number of characters in that file (including spaces and newlines).\n"
   ]
  },
  {
   "cell_type": "code",
   "execution_count": 11,
   "id": "00ce9311-e260-4f9c-ad17-0723de5308e6",
   "metadata": {},
   "outputs": [
    {
     "data": {
      "text/plain": [
       "182"
      ]
     },
     "execution_count": 11,
     "metadata": {},
     "output_type": "execute_result"
    }
   ],
   "source": [
    "def countChar(fileName):\n",
    "    with open(fileName, \"r\") as file:\n",
    "        return len(file.read())\n",
    "\n",
    "countChar(\"sample.txt\")"
   ]
  },
  {
   "cell_type": "markdown",
   "id": "f962cbf0-bddd-460f-aa59-3f2dfe136867",
   "metadata": {},
   "source": [
    "\n",
    "# Exercise 6: Count Specific Word From a File\n",
    "\n",
    "Write a program to count the occurrences of a specific word (e.g., “hello”) in a given file.\n"
   ]
  },
  {
   "cell_type": "code",
   "execution_count": 4,
   "id": "eb4f0c51-3b5c-48b7-bc0d-7c3eb5093dd1",
   "metadata": {},
   "outputs": [
    {
     "name": "stdout",
     "output_type": "stream",
     "text": [
      "Hello appears 5 times\n"
     ]
    }
   ],
   "source": [
    "with open(\"sample.txt\", \"r\") as file:\n",
    "    content = file.read().lower()\n",
    "    print(f\"Hello appears {content.split().count(\"hello\")} times\")"
   ]
  },
  {
   "cell_type": "markdown",
   "id": "f2369e9f-41f4-468a-85e0-bc93836812ce",
   "metadata": {},
   "source": [
    "\n",
    "# Exercise 7: Write To a File\n",
    "\n",
    "Write a Python program to create a new file named “output.txt” and write the string “Hello, PYnative!” into it.\n"
   ]
  },
  {
   "cell_type": "code",
   "execution_count": 17,
   "id": "1607923b-e9a3-4c98-b266-46f8af7cef0c",
   "metadata": {},
   "outputs": [],
   "source": [
    "with open(\"output.txt\", \"w\") as file:\n",
    "    file.write(\"Hello, PYnative!\\n\")"
   ]
  },
  {
   "attachments": {
    "2221b165-9aab-45cc-bfea-19df3a607d20.png": {
     "image/png": "[encoded data removed]"
    }
   },
   "cell_type": "markdown",
   "id": "43f831b7-c6cc-4344-9ff7-0dcc1e1d1931",
   "metadata": {},
   "source": [
    "![image.png](attachment:2221b165-9aab-45cc-bfea-19df3a607d20.png)"
   ]
  },
  {
   "cell_type": "markdown",
   "id": "ec622723-6008-41f0-aa93-4595238f0575",
   "metadata": {},
   "source": [
    "\n",
    "# Exercise 8: Append To a File\n",
    "\n",
    "Modify the previous program to append the string “This is an appended line.” to the end of “output.txt”\n"
   ]
  },
  {
   "cell_type": "code",
   "execution_count": 1,
   "id": "b4e6595c-aaca-4554-bd54-84448e024138",
   "metadata": {},
   "outputs": [],
   "source": [
    "with open(\"output.txt\", \"a\") as file:\n",
    "    file.write(\"This is an appended line\\n\")"
   ]
  },
  {
   "attachments": {
    "03a3f1e4-c2ff-4d8d-9b69-59777a0c410f.png": {
     "image/png": "[encoded data removed]"
    }
   },
   "cell_type": "markdown",
   "id": "aa62f601-7c2b-4671-961a-3cef6808c29c",
   "metadata": {},
   "source": [
    "![image.png](attachment:03a3f1e4-c2ff-4d8d-9b69-59777a0c410f.png)"
   ]
  },
  {
   "cell_type": "markdown",
   "id": "377f693c-c7a5-4713-b25e-e1f1dea05868",
   "metadata": {},
   "source": [
    "\n",
    "# Exercise 9: Copy a File\n",
    "\n",
    "Write a program that takes two filenames as input (source and destination) and copies the content of the source file to the destination file.\n"
   ]
  },
  {
   "cell_type": "code",
   "execution_count": 5,
   "id": "ef669c40-e38e-46b3-ba3b-e813de30173f",
   "metadata": {},
   "outputs": [],
   "source": [
    "def copyFile(src, dest):\n",
    "    with open(src, \"r\") as srcFile:\n",
    "        content = srcFile.read()\n",
    "    with open(dest, \"w\") as destFile:\n",
    "        destFile.write(content)\n",
    "\n",
    "copyFile(\"sample.txt\", \"sample_copy.txt\")"
   ]
  },
  {
   "attachments": {
    "748f3b6f-1826-4592-b1a3-717194c33ab7.png": {
     "image/png": "[encoded data removed]"
    }
   },
   "cell_type": "markdown",
   "id": "bba7dadd-87f1-44a4-95a6-bbf3f57030ab",
   "metadata": {},
   "source": [
    "![image.png](attachment:748f3b6f-1826-4592-b1a3-717194c33ab7.png)"
   ]
  },
  {
   "cell_type": "code",
   "execution_count": null,
   "id": "7eb9d761-cc27-4999-9e28-0c808ab80b89",
   "metadata": {},
   "outputs": [],
   "source": []
  }
 ],
 "metadata": {
  "kernelspec": {
   "display_name": "Python [conda env:base] *",
   "language": "python",
   "name": "conda-base-py"
  },
  "language_info": {
   "codemirror_mode": {
    "name": "ipython",
    "version": 3
   },
   "file_extension": ".py",
   "mimetype": "text/x-python",
   "name": "python",
   "nbconvert_exporter": "python",
   "pygments_lexer": "ipython3",
   "version": "3.13.5"
  }
 },
 "nbformat": 4,
 "nbformat_minor": 5
}
