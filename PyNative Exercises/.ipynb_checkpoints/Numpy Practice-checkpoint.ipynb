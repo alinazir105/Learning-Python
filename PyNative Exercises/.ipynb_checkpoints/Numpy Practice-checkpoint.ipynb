{
 "cells": [
  {
   "cell_type": "markdown",
   "id": "8d28720e-2384-4355-b23c-fb1b62067154",
   "metadata": {},
   "source": [
    "\n",
    "# Exercise 1: Create a 1D NumPy array of numbers from 0 to 9\n"
   ]
  },
  {
   "cell_type": "code",
   "execution_count": 1,
   "id": "883acec3-b9b5-4267-a160-50ba2e6c3fdf",
   "metadata": {},
   "outputs": [],
   "source": [
    "import numpy as np"
   ]
  },
  {
   "cell_type": "code",
   "execution_count": 2,
   "id": "4ca4c83f-73fb-4a5c-ae56-125500757e3d",
   "metadata": {},
   "outputs": [
    {
     "data": {
      "text/plain": [
       "array([0, 1, 2, 3, 4, 5, 6, 7, 8, 9])"
      ]
     },
     "execution_count": 2,
     "metadata": {},
     "output_type": "execute_result"
    }
   ],
   "source": [
    "arr = np.array([0,1,2,3,4,5,6,7,8,9])\n",
    "arr"
   ]
  },
  {
   "cell_type": "markdown",
   "id": "4847e12b-f0fa-4990-82c7-a430f4f40f31",
   "metadata": {},
   "source": [
    "\n",
    "# Exercise 2: Convert 1D array to 2D\n",
    "\n",
    "Write a code to convert a 1D array to a 2D array with 2 rows.\n",
    "\n",
    "**Given:**\n",
    "\n",
    "import numpy as np\\\n",
    "arr = np.arange(6)\n",
    "\n",
    "**Expected Output:**\n",
    "\n",
    "Original Array: [0 1 2 3 4 5]\\\n",
    "Reshaped 2x3 Array:\\\n",
    " [[0 1 2]\\\n",
    " [3 4 5]]\n",
    " "
   ]
  },
  {
   "cell_type": "code",
   "execution_count": 7,
   "id": "006f431d-07bf-4fc2-bdb2-11600cd2117f",
   "metadata": {},
   "outputs": [
    {
     "data": {
      "text/plain": [
       "array([[0, 1, 2],\n",
       "       [3, 4, 5]])"
      ]
     },
     "execution_count": 7,
     "metadata": {},
     "output_type": "execute_result"
    }
   ],
   "source": [
    "import numpy as np\n",
    "arr = np.arange(6)\n",
    "\n",
    "arr.reshape(2, 3)"
   ]
  },
  {
   "cell_type": "markdown",
   "id": "e3419548-3ba3-431b-a2b0-966eef2f9d4c",
   "metadata": {},
   "source": [
    "\n",
    "# Exercise 3: Print Array Attributes\n",
    "\n",
    "Instructions: Print the following attributes of the array:\n",
    "\n",
    "The shape of the array.\\\n",
    "The number of array dimensions.\\\n",
    "The size of each element in bytes.\\\n",
    "\n",
    "**Given:**\n",
    "\n",
    "import numpy as np\\\n",
    "my_array = np.array([[1, 2], [3, 4], [5, 6], [7, 8]], dtype=np.uint16)\n",
    "\n",
    "**Expected Output:**\n",
    "\n",
    "The shape of the array is: (4, 2)\\\n",
    "The number of dimensions is: 2\\\n",
    "The size of each element in bytes is: 2\n"
   ]
  },
  {
   "cell_type": "code",
   "execution_count": 6,
   "id": "9bfe38b6-fc70-4f89-809e-184275d636ea",
   "metadata": {},
   "outputs": [
    {
     "name": "stdout",
     "output_type": "stream",
     "text": [
      "The shape of the array is: (4, 2)\n",
      "The number of dimensions is: 2\n",
      "The size of each element in bytes is: 2\n"
     ]
    }
   ],
   "source": [
    "import numpy as np\n",
    "my_array = np.array([[1, 2], [3, 4], [5, 6], [7, 8]], dtype=np.uint16)\n",
    "\n",
    "print(f\"The shape of the array is: {my_array.shape}\")\n",
    "print(f\"The number of dimensions is: {my_array.ndim}\")\n",
    "print(f\"The size of each element in bytes is: {my_array.itemsize}\")"
   ]
  },
  {
   "cell_type": "markdown",
   "id": "af0a29ce-216c-432c-9904-97a40c7ef350",
   "metadata": {},
   "source": [
    "\n",
    "# Exercise 6: Create a 1D array filled with zeros and another filled with ones\n",
    "\n",
    "**Expected Output:**\n",
    "\n",
    "Zeros: [0. 0. 0. 0. 0.]\\\n",
    "Ones: [1. 1. 1. 1. 1.]\n"
   ]
  },
  {
   "cell_type": "code",
   "execution_count": 9,
   "id": "aca1727c-fdb9-4a25-9851-3c03f3804719",
   "metadata": {},
   "outputs": [
    {
     "name": "stdout",
     "output_type": "stream",
     "text": [
      "Zeros: [0. 0. 0. 0. 0.]\n",
      "Ones: [1. 1. 1. 1. 1.]\n"
     ]
    }
   ],
   "source": [
    "zeros = np.zeros(5)\n",
    "ones = np.ones(5)\n",
    "\n",
    "print(f\"Zeros: {zeros}\")\n",
    "print(f\"Ones: {ones}\")"
   ]
  },
  {
   "cell_type": "markdown",
   "id": "095188eb-aacf-479a-b0c6-dd62e1ed7dca",
   "metadata": {},
   "source": [
    "\n",
    "# Exercise 7: Create a 1D array of 10 evenly spaced values between 5 and 50\n",
    "\n",
    "**Expected Output:**\n",
    "\n",
    "[ 5. 10. 15. 20. 25. 30. 35. 40. 45. 50.]"
   ]
  },
  {
   "cell_type": "code",
   "execution_count": 11,
   "id": "3deedacf-5964-4dba-a096-e351fe7d81e2",
   "metadata": {},
   "outputs": [
    {
     "data": {
      "text/plain": [
       "array([ 5., 10., 15., 20., 25., 30., 35., 40., 45., 50.])"
      ]
     },
     "execution_count": 11,
     "metadata": {},
     "output_type": "execute_result"
    }
   ],
   "source": [
    "np.linspace(5, 50, num=10)"
   ]
  },
  {
   "cell_type": "markdown",
   "id": "f429ffba-3b4f-4fb7-9e13-104f0460506e",
   "metadata": {},
   "source": [
    "# Exercise 8: Convert a Python list into a NumPy array\n",
    "\n",
    "**Given:**\n",
    "\n",
    "py_list = [1, 2, 3, 4, 5]\n"
   ]
  },
  {
   "cell_type": "code",
   "execution_count": 12,
   "id": "397216f9-0550-4eaa-9d52-87bb3be68b8a",
   "metadata": {},
   "outputs": [
    {
     "data": {
      "text/plain": [
       "array([1, 2, 3, 4, 5])"
      ]
     },
     "execution_count": 12,
     "metadata": {},
     "output_type": "execute_result"
    }
   ],
   "source": [
    "py_list = [1, 2, 3, 4, 5]\n",
    "np.array(py_list)"
   ]
  },
  {
   "cell_type": "markdown",
   "id": "b83d2be7-d309-44ee-83e8-19c780fadcb8",
   "metadata": {},
   "source": [
    "\n",
    "# Exercise 9: Find the memory size of a NumPy array of numbers from 0 to 9\n",
    "\n",
    "**Expected Output:**\n",
    "\n",
    "Array: [0 1 2 3 4 5 6 7 8 9]\\\n",
    "Memory size in bytes: 80"
   ]
  },
  {
   "cell_type": "code",
   "execution_count": 14,
   "id": "9f61fd30-3397-4d96-8a10-bcdeed6e752c",
   "metadata": {},
   "outputs": [
    {
     "name": "stdout",
     "output_type": "stream",
     "text": [
      "Array : [0 1 2 3 4 5 6 7 8 9]\n",
      "Memory size in bytes : 80\n"
     ]
    }
   ],
   "source": [
    "arr = np.array([0, 1, 2, 3, 4, 5, 6, 7, 8, 9])\n",
    "print(f\"Array : {arr}\")\n",
    "print(f\"Memory size in bytes : {arr.nbytes}\")"
   ]
  },
  {
   "cell_type": "markdown",
   "id": "47076875-f236-4859-888e-85c6674ffc96",
   "metadata": {},
   "source": [
    "\n",
    "# Exercise 10: Reverse a 1D NumPy array\n",
    "\n",
    "**Given:**\n",
    "\n",
    "import numpy as np\\\n",
    "arr = np.arange(10)\n",
    "\n",
    "**Expected Output:**\n",
    "\n",
    "[9 8 7 6 5 4 3 2 1 0]"
   ]
  },
  {
   "cell_type": "code",
   "execution_count": 17,
   "id": "3025af0f-832d-453b-98d9-99d93246fd2c",
   "metadata": {},
   "outputs": [
    {
     "data": {
      "text/plain": [
       "array([9, 8, 7, 6, 5, 4, 3, 2, 1, 0])"
      ]
     },
     "execution_count": 17,
     "metadata": {},
     "output_type": "execute_result"
    }
   ],
   "source": [
    "import numpy as np\n",
    "arr = np.arange(10)\n",
    "arr.sort()\n",
    "arr[::-1]"
   ]
  },
  {
   "cell_type": "markdown",
   "id": "1cdb5970-8a31-46c1-a2b4-ea73fa4eb5bb",
   "metadata": {},
   "source": [
    "\n",
    "# Exercise 11: Create a 3×3 identity matrix\n",
    "\n",
    "**Expected Output:**\n",
    "\n",
    "[[1. 0. 0.]\n",
    " [0. 1. 0.]\n",
    " [0. 0. 1.]]"
   ]
  },
  {
   "cell_type": "code",
   "execution_count": 18,
   "id": "fd77c4bd-fe2d-43f4-b484-6be15212df4b",
   "metadata": {},
   "outputs": [
    {
     "data": {
      "text/plain": [
       "array([[1., 0., 0.],\n",
       "       [0., 1., 0.],\n",
       "       [0., 0., 1.]])"
      ]
     },
     "execution_count": 18,
     "metadata": {},
     "output_type": "execute_result"
    }
   ],
   "source": [
    "arr = np.identity(3)\n",
    "arr"
   ]
  },
  {
   "cell_type": "markdown",
   "id": "cb713fcd-a75e-4002-a1b7-4c5a61094ef8",
   "metadata": {},
   "source": [
    "# Exercise 12: Create a 4×4 array and extract its first row and last column\n",
    "\n",
    "**Expected Output:**\n",
    "\n",
    "Array:\\\n",
    " [[ 1  2  3  4]\\\n",
    " [ 5  6  7  8]\\\n",
    " [ 9 10 11 12]\\\n",
    " [13 14 15 16]]\n",
    " \n",
    "First Row: [1 2 3 4]\\\n",
    "Last Column: [ 4  8 12 16]\n"
   ]
  },
  {
   "cell_type": "code",
   "execution_count": 28,
   "id": "33c47972-841c-43e3-91ce-eca142a75ba3",
   "metadata": {},
   "outputs": [
    {
     "name": "stdout",
     "output_type": "stream",
     "text": [
      "First row: [1 2 3 4]\n",
      "Last Column: [ 4  8 12 16]\n"
     ]
    }
   ],
   "source": [
    "arr = np.array([\n",
    "    [ 1,  2,  3,  4,], \n",
    "    [ 5,  6,  7,  8],\n",
    "    [ 9, 10, 11, 12],\n",
    "    [13, 14, 15, 16,]\n",
    "])\n",
    "print(f\"First row: {arr[0]}\")\n",
    "print(f\"Last Column: {arr[0:4,3]}\")"
   ]
  },
  {
   "cell_type": "markdown",
   "id": "980c840a-3543-46ff-9cf1-ffeda7151db9",
   "metadata": {},
   "source": [
    "\n",
    "# Exercise 15: Slice the first two rows and first two columns from a 4×4 array\n",
    "\n",
    "Write a code to Create a 4×4 NumPy array and extract the first two rows and first two columns.\n",
    "\n",
    "**Expected Output:**\n",
    "\n",
    "Array:\\\n",
    " [[ 1  2  3  4]\\\n",
    " [ 5  6  7  8]\\\n",
    " [ 9 10 11 12]\\\n",
    " [13 14 15 16]]\n",
    " \n",
    "First 2 rows and columns:\\\n",
    " [[1 2]\\\n",
    " [5 6]]\n",
    " "
   ]
  },
  {
   "cell_type": "code",
   "execution_count": 29,
   "id": "f53a741b-2f63-4750-9fbc-23e2882c6889",
   "metadata": {},
   "outputs": [
    {
     "data": {
      "text/plain": [
       "array([[1, 2],\n",
       "       [5, 6]])"
      ]
     },
     "execution_count": 29,
     "metadata": {},
     "output_type": "execute_result"
    }
   ],
   "source": [
    "arr = np.array([\n",
    "    [ 1,  2,  3, 4,],\n",
    "    [ 5,  6,  7,  8],\n",
    "    [ 9, 10, 11, 12],\n",
    "    [13, 14, 15, 16]\n",
    "])\n",
    "\n",
    "arr[0:2, 0:2]"
   ]
  },
  {
   "cell_type": "markdown",
   "id": "006c7c85-44c6-432f-a3ed-f369517ea0f3",
   "metadata": {},
   "source": [
    "\n",
    "# Exercise 16: Replace all odd numbers in a NumPy array with -1\n",
    "\n",
    "**Expected Output:**\n",
    "\n",
    "Original Array: [ 1  2  3  4  5  6  7  8  9 10]\\\n",
    "Modified Array: [-1  2 -1  4 -1  6 -1  8 -1 10\n"
   ]
  },
  {
   "cell_type": "code",
   "execution_count": 36,
   "id": "50008419-0a1c-418f-810a-c790d29a0ba0",
   "metadata": {},
   "outputs": [
    {
     "data": {
      "text/plain": [
       "array([-1,  2, -1,  4, -1,  6, -1,  8, -1, 10])"
      ]
     },
     "execution_count": 36,
     "metadata": {},
     "output_type": "execute_result"
    }
   ],
   "source": [
    "arr = np.array([ 1,  2,  3,  4,  5,  6,  7,  8,  9, 10])\n",
    "arr[arr % 2 != 0] = -1\n",
    "arr"
   ]
  },
  {
   "cell_type": "markdown",
   "id": "ef478754-74ed-4801-9de9-f86a4f4c492a",
   "metadata": {},
   "source": [
    "\n",
    "# Exercise 26: Create a random 3×2 matrix and find its maximum and minimum values\n"
   ]
  },
  {
   "cell_type": "code",
   "execution_count": 40,
   "id": "0a16b6dd-c1f3-4045-884c-5f64ff632e2e",
   "metadata": {},
   "outputs": [
    {
     "name": "stdout",
     "output_type": "stream",
     "text": [
      "Array: [[0.7190484  0.67172224]\n",
      " [0.48424098 0.21932809]\n",
      " [0.14435809 0.77120265]]\n",
      "Max: 0.7712026461166896\n",
      "Min: 0.1443580938374749\n"
     ]
    }
   ],
   "source": [
    "arr = np.random.rand(3,2)\n",
    "print(f\"Array: {arr}\")\n",
    "print(f\"Max: {arr.max()}\")\n",
    "print(f\"Min: {arr.min()}\")"
   ]
  },
  {
   "cell_type": "markdown",
   "id": "89673219-6404-4f7d-ad86-ea9fe701e2ea",
   "metadata": {},
   "source": [
    "\n",
    "# Exercise 27: Sorting a NumPy array based on a specific column\n",
    "\n",
    "**Given:**\n",
    "\n",
    "import numpy as np\\\n",
    "sampleArray = np.array([[34, 43, 73], [82, 22, 12], [53, 94, 66]])\n"
   ]
  },
  {
   "cell_type": "code",
   "execution_count": 47,
   "id": "4bed84d3-f4eb-485f-80e2-88d70f202b8f",
   "metadata": {},
   "outputs": [
    {
     "data": {
      "text/plain": [
       "array([[82, 22, 12],\n",
       "       [34, 43, 73],\n",
       "       [53, 94, 66]])"
      ]
     },
     "execution_count": 47,
     "metadata": {},
     "output_type": "execute_result"
    }
   ],
   "source": [
    "import numpy as np\n",
    "arr = np.array([\n",
    "    [34, 43, 73], \n",
    "    [82, 22, 12], \n",
    "    [53, 94, 66]\n",
    "])\n",
    "\n",
    "arr[arr[:,1].argsort()]"
   ]
  },
  {
   "cell_type": "markdown",
   "id": "b21fdf95-1ab0-4d32-91fb-6f4e3cb07bae",
   "metadata": {},
   "source": [
    "\n",
    "# Exercise 28: Delete and Insert a Column in a NumPy Array\n",
    "\n",
    "Delete the second column from a given array and insert the following new column in its place.\n",
    "\n",
    "**Given:**\n",
    "\n",
    "import numpy as np\n",
    "\n",
    "sampleArray = np.array([[34,43,73],[82,22,12],[53,94,66]])\\\n",
    "newColumnToAdd = np.array([10, 10, 10])\n",
    "\n",
    "**Expected Output:**\n",
    "\n",
    "[[34 10 73]\\\n",
    " [82 10 12]\\\n",
    " [53 10 66]]\n",
    " "
   ]
  },
  {
   "cell_type": "code",
   "execution_count": 53,
   "id": "e6cf7ac4-b10e-4724-aa02-caa627e54931",
   "metadata": {},
   "outputs": [
    {
     "data": {
      "text/plain": [
       "array([[34, 10, 73],\n",
       "       [82, 10, 12],\n",
       "       [53, 10, 66]])"
      ]
     },
     "execution_count": 53,
     "metadata": {},
     "output_type": "execute_result"
    }
   ],
   "source": [
    "import numpy as np\n",
    "\n",
    "arr = np.array([[34,43,73],[82,22,12],[53,94,66]])\n",
    "newCol = np.array([10, 10, 10])\n",
    "\n",
    "#take the array, the row/column number, and axis (0 = row, 1 = column)\n",
    "arr = np.delete(arr, 1, axis=1)\n",
    "\n",
    "#takes the array, the row/column number, the values to add, axis(0 = row, 1 = column)\n",
    "arr = np.insert(arr, 1, newCol, axis=1)\n",
    "arr"
   ]
  },
  {
   "cell_type": "markdown",
   "id": "19c664e6-e3d5-4179-9cc7-d21c77974b05",
   "metadata": {},
   "source": [
    "\n",
    "# Exercise 29: Swap column 1 and 2 in a 2D array\n",
    "\n",
    "**Given:**\n",
    "\n",
    "import numpy as np\\\n",
    "arr = np.arange(9).reshape(3, 3)\n",
    "\n",
    "The columns are at index 0, 1, 2. We want to rearrange to 0, 2, 1\n",
    "\n",
    "**Expected Output:**\n",
    "\n",
    "Before\\\n",
    "[[0 1 2]\\\n",
    " [3 4 5]\\\n",
    " [6 7 8]]\n",
    "\n",
    "After\\\n",
    "[[0 2 1]\\\n",
    " [3 5 4]\\\n",
    " [6 8 7]]\n",
    " |"
   ]
  },
  {
   "cell_type": "code",
   "execution_count": 55,
   "id": "7e64b828-d0c9-4235-87e9-ed557df8d92b",
   "metadata": {},
   "outputs": [
    {
     "data": {
      "text/plain": [
       "array([[0, 2, 1],\n",
       "       [3, 5, 4],\n",
       "       [6, 8, 7]])"
      ]
     },
     "execution_count": 55,
     "metadata": {},
     "output_type": "execute_result"
    }
   ],
   "source": [
    "import numpy as np\n",
    "arr = np.arange(9).reshape(3, 3)\n",
    "\n",
    "arr[:,[1,2]] = arr[:, [2,1]]\n",
    "arr"
   ]
  },
  {
   "cell_type": "markdown",
   "id": "c78dde93-9354-4fd6-b17a-5735221bec03",
   "metadata": {},
   "source": [
    "\n",
    "# Exercise 30: Generate 10 random integers between 1 and 100\n"
   ]
  },
  {
   "cell_type": "code",
   "execution_count": 61,
   "id": "af355643-ccc9-4b7f-8570-79f8f1fb2073",
   "metadata": {},
   "outputs": [
    {
     "data": {
      "text/plain": [
       "array([ 8, 27, 20, 85,  7, 74, 77, 76, 48, 93], dtype=int32)"
      ]
     },
     "execution_count": 61,
     "metadata": {},
     "output_type": "execute_result"
    }
   ],
   "source": [
    "arr = np.random.randint(1, 100, 10)\n",
    "arr"
   ]
  },
  {
   "cell_type": "markdown",
   "id": "2c0b302c-af98-4368-bf44-f291d70e5c5b",
   "metadata": {},
   "source": [
    "\n",
    "# Exercise 31: Create a 3×3 array of random integers and sort it row-wise\n"
   ]
  },
  {
   "cell_type": "code",
   "execution_count": 68,
   "id": "91604e8c-d065-443a-8a50-d32ea86b25f9",
   "metadata": {},
   "outputs": [
    {
     "data": {
      "text/plain": [
       "array([[22, 35, 37],\n",
       "       [14, 26, 90],\n",
       "       [53, 74, 84]], dtype=int32)"
      ]
     },
     "execution_count": 68,
     "metadata": {},
     "output_type": "execute_result"
    }
   ],
   "source": [
    "arr = np.random.randint(1, 100, 9).reshape(3,3)\n",
    "#takes the array and axis(1= row, 0 = column)\n",
    "np.sort(arr, axis=1)"
   ]
  },
  {
   "cell_type": "markdown",
   "id": "9124e18b-9c86-4c8e-a59b-348a16cd6697",
   "metadata": {},
   "source": [
    "# Exercise 33: Create a 5×5 2D array with 1s on the border and 0s inside.\n",
    "\n",
    "**Expected Output:**\n",
    "\n",
    "[[1. 1. 1. 1. 1.]\\\n",
    " [1. 0. 0. 0. 1.]\\\n",
    " [1. 0. 0. 0. 1.]\\\n",
    " [1. 0. 0. 0. 1.]\\\n",
    " [1. 1. 1. 1. 1.]]\n",
    " "
   ]
  },
  {
   "cell_type": "code",
   "execution_count": 12,
   "id": "4f3e9777-f729-4366-ab4a-29795543a553",
   "metadata": {},
   "outputs": [
    {
     "data": {
      "text/plain": [
       "array([[1., 1., 1., 1., 1.],\n",
       "       [1., 0., 0., 0., 1.],\n",
       "       [1., 0., 0., 0., 1.],\n",
       "       [1., 0., 0., 0., 1.],\n",
       "       [1., 1., 1., 1., 1.]])"
      ]
     },
     "execution_count": 12,
     "metadata": {},
     "output_type": "execute_result"
    }
   ],
   "source": [
    "import numpy as np\n",
    "arr = np.ones((5,5))\n",
    "\n",
    "arr[1:-1, 1:-1] = 0\n",
    "arr"
   ]
  },
  {
   "cell_type": "markdown",
   "id": "dab753b7-5073-40b2-aff6-a79c07251180",
   "metadata": {},
   "source": [
    "\n",
    "# Exercise 35: Sort the rows of a 2D array based on the values of the second column\n",
    "\n",
    "**Given:**\n",
    "\n",
    "import numpy as np\\\n",
    "arr = np.array([[8, 4, 1],\\\n",
    "                [5, 2, 7],\\\n",
    "                [6, 9, 3]])\n",
    "                \n",
    "**Expected Output:**\n",
    "\n",
    "[[5 2 7]\\\n",
    " [8 4 1]\\\n",
    " [6 9 3]]\n",
    " "
   ]
  },
  {
   "cell_type": "code",
   "execution_count": 13,
   "id": "9213f65b-e50b-4224-8e59-d88267283345",
   "metadata": {},
   "outputs": [
    {
     "data": {
      "text/plain": [
       "array([[5, 2, 7],\n",
       "       [8, 4, 1],\n",
       "       [6, 9, 3]])"
      ]
     },
     "execution_count": 13,
     "metadata": {},
     "output_type": "execute_result"
    }
   ],
   "source": [
    "import numpy as np\n",
    "arr = np.array([[8, 4, 1],\n",
    "                [5, 2, 7],\n",
    "                [6, 9, 3]])\n",
    "\n",
    "arr = arr[arr[:, 1].argsort()]\n",
    "arr"
   ]
  },
  {
   "cell_type": "markdown",
   "id": "0ecd4620-6a07-4a4a-806d-b419532c8591",
   "metadata": {},
   "source": [
    "\n",
    "# Exercise 36: Flatten a multi-dimensional NumPy array\n",
    "\n",
    "Write a code to Convert a 2D array into a 1D array.\n",
    "\n",
    "**Given:**\n",
    "\n",
    "import numpy as np\\\n",
    "arr = np.array([[1, 2], [3, 4], [5, 6]])\n"
   ]
  },
  {
   "cell_type": "code",
   "execution_count": 14,
   "id": "2b395068-0c49-411c-9061-3c20f03b31ed",
   "metadata": {},
   "outputs": [
    {
     "data": {
      "text/plain": [
       "array([1, 2, 3, 4, 5, 6])"
      ]
     },
     "execution_count": 14,
     "metadata": {},
     "output_type": "execute_result"
    }
   ],
   "source": [
    "import numpy as np\n",
    "arr = np.array([[1, 2], [3, 4], [5, 6]])\n",
    "\n",
    "arr.flatten()"
   ]
  },
  {
   "cell_type": "markdown",
   "id": "147899f1-dba8-4787-98fa-749cca1e260e",
   "metadata": {},
   "source": [
    "\n",
    "# Exercise 37: Stack two arrays vertically and horizontally\n",
    "\n",
    "**Given:**\n",
    "\n",
    "import numpy as np\\\n",
    "a = np.array([1, 2, 3])\\\n",
    "b = np.array([4, 5, 6])"
   ]
  },
  {
   "cell_type": "code",
   "execution_count": 19,
   "id": "ce7ab979-7474-4532-bdfd-c17bade3a1c0",
   "metadata": {},
   "outputs": [
    {
     "name": "stdout",
     "output_type": "stream",
     "text": [
      "[1 2 3 4 5 6]\n",
      "[[1 2 3]\n",
      " [4 5 6]]\n"
     ]
    }
   ],
   "source": [
    "import numpy as np\n",
    "a = np.array([1, 2, 3])\n",
    "b = np.array([4, 5, 6])\n",
    "\n",
    "print(np.hstack((a,b)))\n",
    "print(np.vstack((a,b)))"
   ]
  },
  {
   "cell_type": "markdown",
   "id": "f70f2e7b-83b2-4964-925a-b365d31083ac",
   "metadata": {},
   "source": [
    "# Exercise 39: Perform Addition and Squaring on Arrays\n",
    "\n",
    "**Given:**\n",
    "\n",
    "import numpy as np\\\n",
    "arrayOne = np.array([[5, 6, 9], [21, 18, 27]])\\\n",
    "arrayTwo = np.array([[15, 33, 24], [4, 7, 1]])\n",
    "\n",
    "**Expected Output:**\n",
    "\n",
    "Result of array addition:\\\n",
    "[[20 39 33]\\\n",
    " [25 25 28]]\n",
    "\n",
    "Result with each element squared:\\\n",
    "[[ 400 1521 1089]\\\n",
    " [ 625  625  784]]\n"
   ]
  },
  {
   "cell_type": "code",
   "execution_count": 22,
   "id": "595e747d-9fb8-46aa-a3e7-453da37a6275",
   "metadata": {},
   "outputs": [
    {
     "name": "stdout",
     "output_type": "stream",
     "text": [
      "Result of array addition: \n",
      "[[20 39 33]\n",
      " [25 25 28]]\n",
      "Result of square of addition array: \n",
      "[[ 400 1521 1089]\n",
      " [ 625  625  784]]\n"
     ]
    }
   ],
   "source": [
    "import numpy as np\n",
    "arrayOne = np.array([[5, 6, 9], [21, 18, 27]])\n",
    "arrayTwo = np.array([[15, 33, 24], [4, 7, 1]])\n",
    "addArr = np.add(arrayOne, arrayTwo)\n",
    "print(f\"Result of array addition: \\n{addArr}\")\n",
    "print(f\"Result of square of addition array: \\n{np.square(addArr)}\")\n"
   ]
  },
  {
   "cell_type": "markdown",
   "id": "1a347f90-21f8-47e0-ad01-2ef4fbd54fc0",
   "metadata": {},
   "source": [
    "\n",
    "# Exercise 40: Invert a matrix\n",
    "\n",
    "**Given:**\n",
    "\n",
    "import numpy as np\\\n",
    "arr = np.array([[1, 2], [3, 4]])\n",
    "\n",
    "**Expected Output:**\n",
    "\n",
    "[[-2.   1. ]\\\n",
    " [ 1.5 -0.5]]\n",
    " "
   ]
  },
  {
   "cell_type": "code",
   "execution_count": 25,
   "id": "6f5c73f5-9334-416a-85e7-56b55382d7ac",
   "metadata": {},
   "outputs": [
    {
     "data": {
      "text/plain": [
       "array([[-2. ,  1. ],\n",
       "       [ 1.5, -0.5]])"
      ]
     },
     "execution_count": 25,
     "metadata": {},
     "output_type": "execute_result"
    }
   ],
   "source": [
    "import numpy as np\n",
    "arr = np.array([[1, 2], [3, 4]])\n",
    "\n",
    "np.linalg.inv(arr)"
   ]
  },
  {
   "cell_type": "markdown",
   "id": "9fc6dbff-d2c9-43cd-abd9-d5f811ce1e1c",
   "metadata": {},
   "source": [
    "\n",
    "# Exercise 41: Use boolean indexing to filter values less than a given number\n",
    "\n",
    "From an array, return values less than 30.\n",
    "\n",
    "**Given:**\n",
    "\n",
    "import numpy as np\\\n",
    "arr = np.array([5, 12, 29, 30, 44, 7, 18])\n"
   ]
  },
  {
   "cell_type": "code",
   "execution_count": 26,
   "id": "811eae0e-f2ac-4e41-bb68-8a0a752434b1",
   "metadata": {},
   "outputs": [
    {
     "data": {
      "text/plain": [
       "array([ 5, 12, 29,  7, 18])"
      ]
     },
     "execution_count": 26,
     "metadata": {},
     "output_type": "execute_result"
    }
   ],
   "source": [
    "import numpy as np\n",
    "arr = np.array([5, 12, 29, 30, 44, 7, 18])\n",
    "\n",
    "arr[arr < 30]"
   ]
  },
  {
   "cell_type": "markdown",
   "id": "3113c0e2-6bf5-4f07-9bbf-57072f47888b",
   "metadata": {},
   "source": [
    "\n",
    "# Exercise 42: Count the number of occurrences of each unique element\n",
    "\n",
    "**Given:**\n",
    "\n",
    "import numpy as np\\\n",
    "arr = np.array([2, 3, 2, 5, 3, 3, 2, 5])\n"
   ]
  },
  {
   "cell_type": "code",
   "execution_count": 37,
   "id": "3b0e60de-8393-4c90-a74e-f2cc7119e3ea",
   "metadata": {},
   "outputs": [
    {
     "name": "stdout",
     "output_type": "stream",
     "text": [
      "Value 2 occurs 3 time(s)\n",
      "Value 3 occurs 3 time(s)\n",
      "Value 5 occurs 2 time(s)\n"
     ]
    }
   ],
   "source": [
    "import numpy as np\n",
    "arr = np.array([2, 3, 2, 5, 3, 3, 2, 5])\n",
    "\n",
    "unique, counts = np.unique(arr, return_counts=True)\n",
    "print(f\"Value {unique[0]} occurs {counts[0]} time(s)\")\n",
    "print(f\"Value {unique[1]} occurs {counts[1]} time(s)\")\n",
    "print(f\"Value {unique[2]} occurs {counts[2]} time(s)\")"
   ]
  },
  {
   "cell_type": "markdown",
   "id": "ac12518f-a0dc-4e60-8e92-657311b65c0e",
   "metadata": {},
   "source": [
    "\n",
    "# Exercise 43: Find the intersection and union of two arrays\n",
    "\n",
    "Intersection: elements present in both arrays.\\\n",
    "Union: all unique elements from both arrays, sorted.\n",
    "\n",
    "**Given:**\n",
    "\n",
    "import numpy as np\\\n",
    "a = np.array([1, 2, 3, 5, 7])\\\n",
    "b = np.array([3, 4, 5, 6, 7])\n"
   ]
  },
  {
   "cell_type": "code",
   "execution_count": 39,
   "id": "94b6cdf9-1599-49fe-9ef0-787ddea262bf",
   "metadata": {},
   "outputs": [
    {
     "name": "stdout",
     "output_type": "stream",
     "text": [
      "Intersection: [3 5 7]\n",
      "Intersection: [1 2 3 4 5 6 7]\n"
     ]
    }
   ],
   "source": [
    "import numpy as np\n",
    "a = np.array([1, 2, 3, 5, 7])\n",
    "b = np.array([3, 4, 5, 6, 7])\n",
    "\n",
    "print(f\"Intersection: {np.intersect1d(a,b)}\")\n",
    "print(f\"Intersection: {np.union1d(a,b)}\")"
   ]
  },
  {
   "cell_type": "markdown",
   "id": "c90618e1-bd83-42c2-a1b8-0b53b787abca",
   "metadata": {},
   "source": [
    "\n",
    "# Exercise 44: Transpose a matrix\n",
    "\n",
    "Transposing a matrix means flipping it over its diagonal.\n",
    "\n",
    "**Given:**\n",
    "\n",
    "import numpy as np\\\n",
    "arr = np.array([[1, 2], [3, 4]])\n"
   ]
  },
  {
   "cell_type": "code",
   "execution_count": 40,
   "id": "e10c39e2-eb23-4152-a3a3-a6e3f91a75ec",
   "metadata": {},
   "outputs": [
    {
     "data": {
      "text/plain": [
       "array([[1, 3],\n",
       "       [2, 4]])"
      ]
     },
     "execution_count": 40,
     "metadata": {},
     "output_type": "execute_result"
    }
   ],
   "source": [
    "import numpy as np\n",
    "arr = np.array([[1, 2], [3, 4]])\n",
    "\n",
    "arr.T"
   ]
  },
  {
   "cell_type": "markdown",
   "id": "54698f89-87fe-495c-9895-ef70db3d99bf",
   "metadata": {},
   "source": [
    "\n",
    "# Exercise 45: Compute the eigenvalues and eigenvectors of a matrix\n",
    "\n",
    "For a square matrix, compute its eigenvalues and eigenvectors.\n",
    "\n",
    "**Given:**\n",
    "\n",
    "import numpy as np\\\n",
    "A = np.array([[4, 2],\\\n",
    "              [1, 3]])\n",
    "              "
   ]
  },
  {
   "cell_type": "code",
   "execution_count": 44,
   "id": "a5277040-69ad-498d-a659-ef8f768b510d",
   "metadata": {},
   "outputs": [
    {
     "data": {
      "text/plain": [
       "EigResult(eigenvalues=array([5., 2.]), eigenvectors=array([[ 0.89442719, -0.70710678],\n",
       "       [ 0.4472136 ,  0.70710678]]))"
      ]
     },
     "execution_count": 44,
     "metadata": {},
     "output_type": "execute_result"
    }
   ],
   "source": [
    "import numpy as np\n",
    "A = np.array([[4, 2],\n",
    "              [1, 3]])\n",
    "\n",
    "np.linalg.eig(A)"
   ]
  },
  {
   "cell_type": "markdown",
   "id": "0b4ee5de-da8c-4377-a31c-542c449d8edf",
   "metadata": {},
   "source": [
    "\n",
    "# Exercise 46: Solve a linear equation\n",
    "\n",
    "Solve the system of linear equations: x + 2y = 8 and 3x + 4y = 18.\n"
   ]
  },
  {
   "cell_type": "code",
   "execution_count": 45,
   "id": "5f6f140b-8b28-4673-82a0-04325dd042d5",
   "metadata": {},
   "outputs": [
    {
     "data": {
      "text/plain": [
       "array([2., 3.])"
      ]
     },
     "execution_count": 45,
     "metadata": {},
     "output_type": "execute_result"
    }
   ],
   "source": [
    "A = np.array([\n",
    "    [1,2],\n",
    "    [3,4]\n",
    "])\n",
    "\n",
    "b = np.array([8,18])\n",
    "\n",
    "np.linalg.solve(A, b)"
   ]
  },
  {
   "cell_type": "markdown",
   "id": "b5ca6a91-4698-44f5-b174-8f27c0ca22da",
   "metadata": {},
   "source": [
    "\n",
    "# Exercise 48: Find nearest value\n",
    "\n",
    "Find the value in an array that is closest to a number 3.\n",
    "\n",
    "**Given:**\n",
    "\n",
    "import numpy as np\\\n",
    "arr = np.array([1.5, 2.8, 3.2, 4.1])\n"
   ]
  },
  {
   "cell_type": "code",
   "execution_count": 46,
   "id": "b177a1e3-b3c6-49b1-b63a-65ea7b685393",
   "metadata": {},
   "outputs": [
    {
     "data": {
      "text/plain": [
       "np.float64(2.8)"
      ]
     },
     "execution_count": 46,
     "metadata": {},
     "output_type": "execute_result"
    }
   ],
   "source": [
    "import numpy as np\n",
    "arr = np.array([1.5, 2.8, 3.2, 4.1])\n",
    "target = 3\n",
    "index = np.abs(arr - target).argmin()\n",
    "\n",
    "arr[index]"
   ]
  },
  {
   "cell_type": "code",
   "execution_count": null,
   "id": "14848833-cada-4fa0-91d2-10ac5bfc41b2",
   "metadata": {},
   "outputs": [],
   "source": []
  }
 ],
 "metadata": {
  "kernelspec": {
   "display_name": "Python [conda env:base] *",
   "language": "python",
   "name": "conda-base-py"
  },
  "language_info": {
   "codemirror_mode": {
    "name": "ipython",
    "version": 3
   },
   "file_extension": ".py",
   "mimetype": "text/x-python",
   "name": "python",
   "nbconvert_exporter": "python",
   "pygments_lexer": "ipython3",
   "version": "3.13.5"
  }
 },
 "nbformat": 4,
 "nbformat_minor": 5
}
