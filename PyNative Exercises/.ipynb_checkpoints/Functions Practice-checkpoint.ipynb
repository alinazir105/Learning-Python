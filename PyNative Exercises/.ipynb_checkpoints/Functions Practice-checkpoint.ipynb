{
 "cells": [
  {
   "cell_type": "markdown",
   "id": "236591d6-3cb8-4aa5-8853-a8ab831efd62",
   "metadata": {},
   "source": [
    "\n",
    "# Exercise 2: Create a function with variable length of arguments\n",
    "\n",
    "Write a program to create a function func1() that accepts a variable number of arguments and prints each of their values.\n",
    "\n",
    "**Note:** Create this function so that it can receive any number of arguments, process them, and display the value of each individual argument."
   ]
  },
  {
   "cell_type": "code",
   "execution_count": 2,
   "id": "8738cbf1-d566-4441-a491-4ab130aea809",
   "metadata": {},
   "outputs": [],
   "source": [
    "def func1(*args):\n",
    "    print(\"Printing Values:\")\n",
    "    for i in range(len(args)):\n",
    "        print(args[i])"
   ]
  },
  {
   "cell_type": "code",
   "execution_count": 3,
   "id": "e4acfead-c465-41a3-9f2f-c07a20fcf2e3",
   "metadata": {},
   "outputs": [
    {
     "name": "stdout",
     "output_type": "stream",
     "text": [
      "20\n",
      "40\n",
      "60\n",
      "80\n",
      "100\n"
     ]
    }
   ],
   "source": [
    "func1(20, 40, 60)\n",
    "func1(80, 100)"
   ]
  },
  {
   "cell_type": "markdown",
   "id": "6b4541b2-1f97-42a5-ab88-0fbdd6b07274",
   "metadata": {},
   "source": [
    "\n",
    "# Exercise 3: Return multiple values from a function\n",
    "\n",
    "Write a function calculation() that accepts two variables and calculates both their addition and subtraction. The function should then return both the sum and the difference in a single return statement.\n"
   ]
  },
  {
   "cell_type": "code",
   "execution_count": 4,
   "id": "6cb1abda-c304-401b-8c7b-e7ec57ddfde6",
   "metadata": {},
   "outputs": [],
   "source": [
    "def calculation(num1, num2):\n",
    "    sum = num1 + num2\n",
    "    diff = num1 - num2\n",
    "    return sum, diff"
   ]
  },
  {
   "cell_type": "code",
   "execution_count": 7,
   "id": "ef8e53b1-957e-43d8-9b27-3252061ec252",
   "metadata": {},
   "outputs": [
    {
     "data": {
      "text/plain": [
       "(50, 30)"
      ]
     },
     "execution_count": 7,
     "metadata": {},
     "output_type": "execute_result"
    }
   ],
   "source": [
    "calculation(40, 10)"
   ]
  },
  {
   "cell_type": "markdown",
   "id": "fddc272d-e702-47fa-99d1-190998e6f5bf",
   "metadata": {},
   "source": [
    "\n",
    "# Exercise 5: Create an inner function\n",
    "\n",
    "Create a program with nested functions to perform an addition calculation as follows:\n",
    "\n",
    "    1.Define an outer function that accepts two parameters, a and b.\n",
    "    2.Inside this outer function, define an inner function that calculates the sum of a and b.\n",
    "    3.The outer function should then add 5 to this sum.\n",
    "    4.Finally, the outer function should return the resulting value.”"
   ]
  },
  {
   "cell_type": "code",
   "execution_count": 8,
   "id": "83991d2f-26fc-4c21-9288-c1fab224ba63",
   "metadata": {},
   "outputs": [],
   "source": [
    "\n",
    "def outer(a, b):\n",
    "    def inner():\n",
    "        return a + b\n",
    "    res = inner() + 5\n",
    "    return res\n"
   ]
  },
  {
   "cell_type": "code",
   "execution_count": 9,
   "id": "7233e179-1d49-4689-9360-28f1b4ae84c6",
   "metadata": {},
   "outputs": [
    {
     "data": {
      "text/plain": [
       "15"
      ]
     },
     "execution_count": 9,
     "metadata": {},
     "output_type": "execute_result"
    }
   ],
   "source": [
    "outer(5, 5)"
   ]
  },
  {
   "cell_type": "markdown",
   "id": "4ad40bed-474c-4664-8607-6b79c5547c11",
   "metadata": {},
   "source": [
    "\n",
    "# Exercise 6: Create a recursive function\n",
    "\n",
    "Write a program to create a recursive function that calculates the sum of numbers from 0 to 10.\n",
    "\n",
    "A recursive function is a function that calls itself repeatedly.\n"
   ]
  },
  {
   "cell_type": "code",
   "execution_count": 10,
   "id": "ed22b950-145b-40f5-86ce-386a1f5b070f",
   "metadata": {},
   "outputs": [],
   "source": [
    "def sum(n):\n",
    "    if(n == 0):\n",
    "        return 0\n",
    "    return n + sum(n-1)"
   ]
  },
  {
   "cell_type": "code",
   "execution_count": 11,
   "id": "bfe6c873-00cf-42fe-a23d-6b8f9d8e238a",
   "metadata": {},
   "outputs": [
    {
     "data": {
      "text/plain": [
       "55"
      ]
     },
     "execution_count": 11,
     "metadata": {},
     "output_type": "execute_result"
    }
   ],
   "source": [
    "sum(10)"
   ]
  },
  {
   "cell_type": "markdown",
   "id": "0612a792-5092-4abb-8a9b-e559fc8db6e4",
   "metadata": {},
   "source": [
    "\n",
    "# Exercise 7: Assign a different name to function and call it through the new name\n",
    "\n",
    "Below is the function display_student(name, age). Assign a new name show_student(name, age) to it and call it using the new name.\n",
    "\n",
    "Given:\n",
    "\n",
    "    def display_student(name, age):\n",
    "        print(name, age)\n",
    "\n",
    "    display_student(\"Emma\", 26)\n",
    "\n",
    "You should be able to call the same function using\n",
    "\n",
    "    show_student(name, age)"
   ]
  },
  {
   "cell_type": "code",
   "execution_count": 13,
   "id": "c38ed641-736c-47e4-a126-75577d44df43",
   "metadata": {},
   "outputs": [
    {
     "name": "stdout",
     "output_type": "stream",
     "text": [
      "Emma 26\n"
     ]
    }
   ],
   "source": [
    "def display_student(name, age):\n",
    "    print(name, age)\n",
    "\n",
    "show_student = display_student\n",
    "\n",
    "show_student(\"Emma\", 26)"
   ]
  },
  {
   "cell_type": "markdown",
   "id": "36ce1048-d88f-4dc7-b1f3-91b554925438",
   "metadata": {},
   "source": [
    "\n",
    "# Exercise 10: Call Function using both positional and keyword arguments\n",
    "\n",
    "Define a function describe_pet(animal_type, pet_name) that prints a description of a pet. Call this function using both positional and keyword arguments.\n"
   ]
  },
  {
   "cell_type": "code",
   "execution_count": 15,
   "id": "85b29968-65e2-4659-a1bd-915686044cba",
   "metadata": {},
   "outputs": [
    {
     "name": "stdout",
     "output_type": "stream",
     "text": [
      "I have a Dog whose name is Milo\n",
      "I have a Cat whose name is Mr Whiskers\n"
     ]
    }
   ],
   "source": [
    "def describe_pet(animal_type, pet_name):\n",
    "    print(f\"I have a {animal_type} whose name is {pet_name}\")\n",
    "\n",
    "describe_pet(\"Dog\", \"Milo\")\n",
    "describe_pet(pet_name=\"Mr Whiskers\", animal_type=\"Cat\",)"
   ]
  },
  {
   "cell_type": "markdown",
   "id": "3040b39a-bb62-4617-8eca-9f310f6ecd5e",
   "metadata": {},
   "source": [
    "\n",
    "# Exercise 12: Modifies global variable\n",
    "\n",
    "Define a global variable global_var = 10. Write a function that modifies a global variable value.\n"
   ]
  },
  {
   "cell_type": "code",
   "execution_count": 26,
   "id": "40887d8d-84b3-4660-82e6-50ae4db8a979",
   "metadata": {},
   "outputs": [
    {
     "name": "stdout",
     "output_type": "stream",
     "text": [
      "Before function call: 10\n",
      "After function call: 5\n"
     ]
    }
   ],
   "source": [
    "global_var = 10\n",
    "print(f\"Before function call: {global_var}\")\n",
    "\n",
    "def func():\n",
    "    global global_var \n",
    "    global_var = 5\n",
    "\n",
    "func()\n",
    "print(f\"After function call: {global_var}\")"
   ]
  },
  {
   "cell_type": "markdown",
   "id": "3cfa7298-8f9b-4ebc-b13a-97fc50e14f19",
   "metadata": {},
   "source": [
    "\n",
    "# Exercise 13: Write a recursive function to calculate the factorial\n",
    "\n",
    "Write a recursive function to calculate the factorial of a non-negative integer.\n"
   ]
  },
  {
   "cell_type": "code",
   "execution_count": 28,
   "id": "57d314e9-01b5-45e4-a6b2-f42c3e2c5438",
   "metadata": {},
   "outputs": [
    {
     "data": {
      "text/plain": [
       "120"
      ]
     },
     "execution_count": 28,
     "metadata": {},
     "output_type": "execute_result"
    }
   ],
   "source": [
    "def factorial(n):\n",
    "    if n == 0 or n == 1:\n",
    "        return 1\n",
    "    return n * factorial(n-1)\n",
    "\n",
    "factorial(5)"
   ]
  },
  {
   "cell_type": "markdown",
   "id": "c2c741d0-af48-4b43-94f7-9e9ac2eab543",
   "metadata": {},
   "source": [
    "\n",
    "# Exercise 14: Create a lambda function that squares a given number\n",
    "\n",
    "A lambda function in Python is a small anonymous function defined using the lambda keyword. The syntax is lambda arguments: expression. The expression is evaluated and returned.\n"
   ]
  },
  {
   "cell_type": "code",
   "execution_count": 29,
   "id": "5287199d-962e-4146-a777-64369e7b7e6d",
   "metadata": {},
   "outputs": [
    {
     "data": {
      "text/plain": [
       "10"
      ]
     },
     "execution_count": 29,
     "metadata": {},
     "output_type": "execute_result"
    }
   ],
   "source": [
    "x = lambda a, b : a+b\n",
    "\n",
    "x(5,5)"
   ]
  },
  {
   "cell_type": "markdown",
   "id": "d937a1f5-24c9-44fc-ba3e-78dc95d8e186",
   "metadata": {},
   "source": [
    "\n",
    "# Exercise 15: Use a lambda with the filter() function to get all even numbers from a list\n"
   ]
  },
  {
   "cell_type": "code",
   "execution_count": 35,
   "id": "b1d17138-b6c0-496d-be57-9e53b226a723",
   "metadata": {},
   "outputs": [
    {
     "name": "stdout",
     "output_type": "stream",
     "text": [
      "[2, 4, 6, 8, 10]\n"
     ]
    }
   ],
   "source": [
    "def filter_even(numList):\n",
    "    return list(filter(lambda num : num % 2 == 0, numList))\n",
    "\n",
    "print(filter_even([1, 2, 3, 4, 5, 6, 7, 8, 9, 10]))"
   ]
  },
  {
   "cell_type": "markdown",
   "id": "3ff961af-5d77-4f61-a783-3810e22d992b",
   "metadata": {},
   "source": [
    "\n",
    "# Exercise 16: Use a lambda with the map() function to double each element in a list\n"
   ]
  },
  {
   "cell_type": "code",
   "execution_count": 36,
   "id": "d710757c-7ecc-4300-beda-0af6d794327e",
   "metadata": {},
   "outputs": [
    {
     "name": "stdout",
     "output_type": "stream",
     "text": [
      "[2, 4, 6, 8, 10]\n"
     ]
    }
   ],
   "source": [
    "def doubleNums(numList):\n",
    "    return list(map(lambda num : num * 2, numList))\n",
    "\n",
    "print(doubleNums([1,2,3,4,5]))"
   ]
  },
  {
   "cell_type": "markdown",
   "id": "4cae3a9c-4666-4d03-a894-5f8873449852",
   "metadata": {},
   "source": [
    "\n",
    "# Exercise 17: Use a lambda with the sorted() function to sort a list of tuples based on the second element\n",
    "\n",
    "Given:\n",
    "\n",
    "data = [('apple', 5), ('banana', 2), ('cherry', 8), ('date', 1)]\n",
    "Expected Output:\n",
    "\n",
    "The sorted list of tuples based on the second element is: [('date', 1), ('banana', 2), ('apple', 5), ('cherry', 8)]\n"
   ]
  },
  {
   "cell_type": "code",
   "execution_count": 37,
   "id": "21a58a85-6ab7-4d44-8286-ecd71e4e8bec",
   "metadata": {},
   "outputs": [
    {
     "data": {
      "text/plain": [
       "[('date', 1), ('banana', 2), ('apple', 5), ('cherry', 8)]"
      ]
     },
     "execution_count": 37,
     "metadata": {},
     "output_type": "execute_result"
    }
   ],
   "source": [
    "def sortBySecondEl(data):\n",
    "    return list(sorted(data, key=lambda el : el[1]))\n",
    "\n",
    "data = [('apple', 5), ('banana', 2), ('cherry', 8), ('date', 1)]\n",
    "sortBySecondEl(data)"
   ]
  },
  {
   "cell_type": "markdown",
   "id": "92759c54-7146-4b69-a01d-11c9bf8ed656",
   "metadata": {},
   "source": [
    "\n",
    "# Exercise 18: Create Higher-Order Function\n",
    "\n",
    "Write a function apply_operation(func, x, y) that takes a function func and two numbers x and y as arguments, and returns the result of calling func(x, y). Demonstrate its use with different functions (e.g., addition, subtraction).\n",
    "\n",
    "The exercise requires you to create a higher-order function, which is a function that can take other functions as arguments.\n"
   ]
  },
  {
   "cell_type": "code",
   "execution_count": 38,
   "id": "3820bf34-d649-4f89-bbc1-0a56f652cfdf",
   "metadata": {},
   "outputs": [
    {
     "data": {
      "text/plain": [
       "5"
      ]
     },
     "execution_count": 38,
     "metadata": {},
     "output_type": "execute_result"
    }
   ],
   "source": [
    "def apply_operation(func, x, y):\n",
    "    return func(x,y)\n",
    "\n",
    "def add(x,y):\n",
    "    return x + y\n",
    "\n",
    "apply_operation(add, 2, 3)"
   ]
  },
  {
   "cell_type": "code",
   "execution_count": null,
   "id": "7ef12380-7838-4c94-8a8c-1c42660e759c",
   "metadata": {},
   "outputs": [],
   "source": []
  }
 ],
 "metadata": {
  "kernelspec": {
   "display_name": "Python [conda env:base] *",
   "language": "python",
   "name": "conda-base-py"
  },
  "language_info": {
   "codemirror_mode": {
    "name": "ipython",
    "version": 3
   },
   "file_extension": ".py",
   "mimetype": "text/x-python",
   "name": "python",
   "nbconvert_exporter": "python",
   "pygments_lexer": "ipython3",
   "version": "3.13.5"
  }
 },
 "nbformat": 4,
 "nbformat_minor": 5
}
