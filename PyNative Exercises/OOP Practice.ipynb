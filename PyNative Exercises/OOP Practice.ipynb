{
 "cells": [
  {
   "cell_type": "markdown",
   "id": "a6c5a486-19fa-452e-84bd-1f898de57742",
   "metadata": {},
   "source": [
    "# OOP Exercise 1: Create a Class with instance attributes\n",
    "\n",
    "Write a Python program to create a Vehicle class with 'max_speed' and 'mileage' instance attributes.\n"
   ]
  },
  {
   "cell_type": "code",
   "execution_count": 2,
   "id": "e0c45cc8-b123-4e61-999f-f7ca35a87957",
   "metadata": {},
   "outputs": [
    {
     "name": "stdout",
     "output_type": "stream",
     "text": [
      "120 25\n"
     ]
    }
   ],
   "source": [
    "class Vehicle:\n",
    "    def __init__(self, max_speed, mileage):\n",
    "        self.max_speed = max_speed\n",
    "        self.mileage = mileage\n",
    "\n",
    "v1 = Vehicle(120, 25)\n",
    "print(v1.max_speed, v1.mileage)"
   ]
  },
  {
   "cell_type": "markdown",
   "id": "2c674c12-fb02-43dd-a2b8-b30b37ca3874",
   "metadata": {},
   "source": [
    "\n",
    "# OOP Exercise 2: Create a Vehicle class without any variables and methods\n"
   ]
  },
  {
   "cell_type": "code",
   "execution_count": 3,
   "id": "6d28e41a-a2cb-43bc-bbf2-67d7889e8594",
   "metadata": {},
   "outputs": [],
   "source": [
    "class Vehicle:\n",
    "    pass"
   ]
  },
  {
   "cell_type": "markdown",
   "id": "9e74e45e-ddb4-4006-b822-612b5ddaff87",
   "metadata": {},
   "source": [
    "\n",
    "# OOP Exercise 3: Create a child class Bus that will inherit all of the variables and methods of the Vehicle class\n",
    "\n",
    "Create a Bus object that will inherit all of the variables and methods of the parent Vehicle class and display it.\n"
   ]
  },
  {
   "cell_type": "code",
   "execution_count": 4,
   "id": "de71880a-88c8-4bde-b938-a0f147c7fdce",
   "metadata": {},
   "outputs": [
    {
     "name": "stdout",
     "output_type": "stream",
     "text": [
      "Name: School Volvo\n",
      "Max Speed: 180\n",
      "Mileage: 12\n"
     ]
    }
   ],
   "source": [
    "class Vehicle:\n",
    "\n",
    "    def __init__(self, name, max_speed, mileage):\n",
    "        self.name = name\n",
    "        self.max_speed = max_speed\n",
    "        self.mileage = mileage\n",
    "\n",
    "class Bus(Vehicle):\n",
    "    def display(self):\n",
    "        print(f\"Name: {self.name}\\nMax Speed: {self.max_speed}\\nMileage: {self.mileage}\")\n",
    "\n",
    "bus1 = Bus(\"School Volvo\", 180, 12)\n",
    "bus1.display()"
   ]
  },
  {
   "cell_type": "markdown",
   "id": "3c625880-1731-4581-8bb8-5fbb47d2b69b",
   "metadata": {},
   "source": [
    "\n",
    "# OOP Exercise 4: Class Inheritance\n",
    "\n",
    "**Given:**\n",
    "\n",
    "Create a Bus class that inherits from the Vehicle class. Give the capacity argument of Bus.seating_capacity() a default value of 50.\n"
   ]
  },
  {
   "cell_type": "code",
   "execution_count": 9,
   "id": "6ee1d047-e5d2-4cc3-9e3f-fda639060a2e",
   "metadata": {},
   "outputs": [
    {
     "data": {
      "text/plain": [
       "'The seating capacity of a School Volvo is 50 passengers'"
      ]
     },
     "execution_count": 9,
     "metadata": {},
     "output_type": "execute_result"
    }
   ],
   "source": [
    "# Use following code for Vehicle class\n",
    "class Vehicle:\n",
    "    def __init__(self, name, max_speed, mileage):\n",
    "        self.name = name\n",
    "        self.max_speed = max_speed\n",
    "        self.mileage = mileage\n",
    "\n",
    "    def seating_capacity(self, capacity):\n",
    "        return f\"The seating capacity of a {self.name} is {capacity} passengers\"\n",
    "\n",
    "class Bus(Vehicle):\n",
    "    def seating_capacity(self, capacity=50):\n",
    "        return super().seating_capacity(capacity)\n",
    "    \n",
    "bus1 = Bus(\"School Volvo\", 180, 12)\n",
    "bus1.seating_capacity()"
   ]
  },
  {
   "cell_type": "markdown",
   "id": "9601eb21-a82e-4547-8d71-c4d1d56f9c4e",
   "metadata": {},
   "source": [
    "\n",
    "# OOP Exercise 5: Define a property that must have the same value for every class instance (object)\n",
    "\n",
    "Define a class attribute”color” with a default value white. I.e., Every Vehicle should be white.\n",
    "\n",
    "Expected Output:\n",
    "\n",
    "Color: White, Vehicle name: School Volvo, Speed: 180, Mileage: 12\\\n",
    "Color: White, Vehicle name: Audi Q5, Speed: 240, Mileage: 18\n"
   ]
  },
  {
   "cell_type": "code",
   "execution_count": 10,
   "id": "38664ff0-e6a1-4ce1-a3cd-d9ddda193c17",
   "metadata": {},
   "outputs": [
    {
     "name": "stdout",
     "output_type": "stream",
     "text": [
      "Color: white, Vehicle name: School Volvo, Speed: 180, Mileage: 12\n",
      "Color: white, Vehicle name: Audi Q5, Speed: 240, Mileage: 18\n"
     ]
    }
   ],
   "source": [
    "class Vehicle:\n",
    "    color = \"white\"\n",
    "    def __init__(self, name, max_speed, mileage):\n",
    "        self.name = name\n",
    "        self.max_speed = max_speed\n",
    "        self.mileage = mileage\n",
    "\n",
    "class Bus(Vehicle):\n",
    "    pass\n",
    "\n",
    "class Car(Vehicle):\n",
    "    pass\n",
    "\n",
    "b1 = Bus(\"School Volvo\", 180, 12)\n",
    "c1 = Car(\"Audi Q5\", 240, 18)\n",
    "\n",
    "print(f\"Color: {b1.color}, Vehicle name: {b1.name}, Speed: {b1.max_speed}, Mileage: {b1.mileage}\")\n",
    "print(f\"Color: {c1.color}, Vehicle name: {c1.name}, Speed: {c1.max_speed}, Mileage: {c1.mileage}\")"
   ]
  },
  {
   "cell_type": "markdown",
   "id": "87e163a0-cb01-41f6-abd0-40fa36573ac0",
   "metadata": {},
   "source": [
    "\n",
    "# OOP Exercise 6: Class Inheritance\n",
    "\n",
    "**Given:**\n",
    "\n",
    "Create a Bus child class that inherits from the Vehicle class. The default fare charge for any vehicle is its seating capacity multiplied by 100 (seating capacity * 100).\n",
    "\n",
    "If the vehicle is a Bus instance, we need to add an extra 10% to the full fare as a maintenance charge. Therefore, the total fare for a Bus instance will be the final amount, calculated as total fare plus 10% of the total fare. (final amount = total fare + 10% of the total fare.)\n",
    "\n",
    "Note: The bus seating capacity is 50, so the final fare amount should be 5500.\n"
   ]
  },
  {
   "cell_type": "code",
   "execution_count": 11,
   "id": "9404d993-04b6-4080-aef2-9fc6cfbff5af",
   "metadata": {},
   "outputs": [
    {
     "name": "stdout",
     "output_type": "stream",
     "text": [
      "Total Bus fare is: 5500.0\n"
     ]
    }
   ],
   "source": [
    "class Vehicle:\n",
    "    def __init__(self, name, mileage, capacity):\n",
    "        self.name = name\n",
    "        self.mileage = mileage\n",
    "        self.capacity = capacity\n",
    "\n",
    "    def fare(self):\n",
    "        return self.capacity * 100\n",
    "\n",
    "class Bus(Vehicle):\n",
    "    def fare(self):\n",
    "        total = super().fare()\n",
    "        return total + (total * 0.1)\n",
    "\n",
    "School_bus = Bus(\"School Volvo\", 12, 50)\n",
    "print(\"Total Bus fare is:\", School_bus.fare())"
   ]
  },
  {
   "cell_type": "markdown",
   "id": "67807162-cc7d-4928-859e-3b6bafb5db37",
   "metadata": {},
   "source": [
    "\n",
    "# OOP Exercise 7: Check type of an object\n",
    "\n",
    "Write a program to determine which class a given Bus object belongs to.\n"
   ]
  },
  {
   "cell_type": "code",
   "execution_count": 12,
   "id": "ee9c5b01-d002-4876-a83e-94e39d2fa0ce",
   "metadata": {},
   "outputs": [
    {
     "data": {
      "text/plain": [
       "__main__.Bus"
      ]
     },
     "execution_count": 12,
     "metadata": {},
     "output_type": "execute_result"
    }
   ],
   "source": [
    "class Vehicle:\n",
    "    def __init__(self, name, mileage, capacity):\n",
    "        self.name = name\n",
    "        self.mileage = mileage\n",
    "        self.capacity = capacity\n",
    "\n",
    "class Bus(Vehicle):\n",
    "    pass\n",
    "\n",
    "School_bus = Bus(\"School Volvo\", 12, 50)\n",
    "type(School_bus)"
   ]
  },
  {
   "cell_type": "markdown",
   "id": "8b4e2c58-5f11-4c66-9b46-bb8d77f03842",
   "metadata": {},
   "source": [
    "\n",
    "# OOP Exercise 8: Determine if School_bus is also an instance of the Vehicle class\n"
   ]
  },
  {
   "cell_type": "code",
   "execution_count": 14,
   "id": "c7f4702a-649f-4a59-b784-cc786332f9d6",
   "metadata": {},
   "outputs": [
    {
     "data": {
      "text/plain": [
       "True"
      ]
     },
     "execution_count": 14,
     "metadata": {},
     "output_type": "execute_result"
    }
   ],
   "source": [
    "class Vehicle:\n",
    "    def __init__(self, name, mileage, capacity):\n",
    "        self.name = name\n",
    "        self.mileage = mileage\n",
    "        self.capacity = capacity\n",
    "\n",
    "class Bus(Vehicle):\n",
    "    pass\n",
    "\n",
    "School_bus = Bus(\"School Volvo\", 12, 50)\n",
    "\n",
    "isinstance(School_bus, Vehicle)"
   ]
  },
  {
   "cell_type": "markdown",
   "id": "474ce3a1-5df4-4190-87de-37fe32c25521",
   "metadata": {},
   "source": [
    "\n",
    "# OOP Exercise 9: Check object is a subclass of a particular class\n",
    "\n",
    "1. Dog is a subclass of Animal? –> True\n",
    "2. Animal is a subclass of Dog? –> False\n",
    "3. Cat is a subclass of Animal? –> False\n",
    "4. Puppy is a subclass of Animal –> True\n"
   ]
  },
  {
   "cell_type": "code",
   "execution_count": 19,
   "id": "36521d8a-2c94-49ba-939c-dbae6ee2a093",
   "metadata": {},
   "outputs": [
    {
     "name": "stdout",
     "output_type": "stream",
     "text": [
      "True\n",
      "False\n",
      "False\n",
      "True\n"
     ]
    }
   ],
   "source": [
    "class Animal:\n",
    "    pass\n",
    "\n",
    "class Dog(Animal):\n",
    "    pass\n",
    "\n",
    "class Puppy(Dog):\n",
    "    pass\n",
    "\n",
    "class Cat:\n",
    "    pass\n",
    "\n",
    "print(issubclass(Dog, Animal))\n",
    "print(issubclass(Animal, Dog))\n",
    "print(issubclass(Cat, Animal))\n",
    "print(issubclass(Puppy, Animal))"
   ]
  },
  {
   "cell_type": "markdown",
   "id": "b2412cce-cbc0-49c8-8aa7-59d3eeccbf88",
   "metadata": {},
   "source": [
    "# OOP Exercise 10: Calculate the area of different shapes using OOP\n",
    "\n",
    "**Given:**\n",
    "\n",
    "You have given a Shape class and subclasses Circle  and Square. The parent class (Shape) has a area() method.\n",
    "\n",
    "Now, Write a OOP code to calculate the area of each shapes (each subclass must write its own implementation of area() method to calculates its area).\n"
   ]
  },
  {
   "cell_type": "code",
   "execution_count": 21,
   "id": "74da001b-a2cd-4847-adb5-5573f3b0f806",
   "metadata": {},
   "outputs": [
    {
     "name": "stdout",
     "output_type": "stream",
     "text": [
      "78.53981633974483\n",
      "49.0\n",
      "28.274333882308138\n"
     ]
    }
   ],
   "source": [
    "import math\n",
    "class Shape:\n",
    "    def area(self):\n",
    "        raise NotImplementedError(\"Area method must be implemented by subclasses\")\n",
    "\n",
    "class Circle(Shape):\n",
    "    def __init__(self, radius):\n",
    "        self.radius = radius\n",
    "    def area(self):\n",
    "        return math.pi * math.pow(self.radius, 2)\n",
    "\n",
    "class Square(Shape):\n",
    "    def __init__(self, side):\n",
    "        self.side = side\n",
    "    def area(self):\n",
    "        return math.pow(self.side, 2)\n",
    "# Example of polymorphism\n",
    "shapes = [Circle(5), Square(7), Circle(3)]\n",
    "\n",
    "for shape in shapes:\n",
    "    print(shape.area())  # Output: 78.53975, 49, 28.27431"
   ]
  },
  {
   "cell_type": "code",
   "execution_count": null,
   "id": "73c36805-70fa-46e6-b222-17bdbe009dfd",
   "metadata": {},
   "outputs": [],
   "source": []
  }
 ],
 "metadata": {
  "kernelspec": {
   "display_name": "Python [conda env:base] *",
   "language": "python",
   "name": "conda-base-py"
  },
  "language_info": {
   "codemirror_mode": {
    "name": "ipython",
    "version": 3
   },
   "file_extension": ".py",
   "mimetype": "text/x-python",
   "name": "python",
   "nbconvert_exporter": "python",
   "pygments_lexer": "ipython3",
   "version": "3.13.5"
  }
 },
 "nbformat": 4,
 "nbformat_minor": 5
}
