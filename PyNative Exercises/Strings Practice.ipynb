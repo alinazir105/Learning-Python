{
 "cells": [
  {
   "cell_type": "markdown",
   "id": "39b294e7-c1e1-4a46-8611-782d6b666e02",
   "metadata": {},
   "source": [
    "\n",
    "# Exercise 1A: Create a string made of the first, middle and last character\n",
    "\n",
    "Write a program to create a new string made of an input string’s first, middle, and last character.\n",
    "\n",
    "Given:\n",
    "    str1 = \"James\"\n",
    "\n",
    "Expected Output:\n",
    "    Jms\n"
   ]
  },
  {
   "cell_type": "code",
   "execution_count": 1,
   "id": "58ea5282-4e7c-4ed1-aee5-d963c6e0d2a7",
   "metadata": {},
   "outputs": [
    {
     "data": {
      "text/plain": [
       "'Jms'"
      ]
     },
     "execution_count": 1,
     "metadata": {},
     "output_type": "execute_result"
    }
   ],
   "source": [
    "str1 = \"James\"\n",
    "str2 = str1[0] + str1[len(str1)//2] + str1[-1]\n",
    "\n",
    "str2"
   ]
  },
  {
   "cell_type": "markdown",
   "id": "a40bab12-6cf9-494b-8e3a-73bbbea0e1a9",
   "metadata": {},
   "source": [
    "\n",
    "# Exercise 2: Append new string in the middle of a given string\n",
    "\n",
    "Given two strings, s1 and s2. Write a program to create a new string s3 by appending s2 in the middle of s1.\n",
    "\n",
    "Given:\n",
    "s1 = \"Ault\"\n",
    "s2 = \"Kelly\"\n",
    "\n",
    "Expected Output:\n",
    "    AuKellylt\n"
   ]
  },
  {
   "cell_type": "code",
   "execution_count": 2,
   "id": "43eea7ae-f1d1-4e68-8756-2a873093b427",
   "metadata": {},
   "outputs": [
    {
     "data": {
      "text/plain": [
       "'AuKellylt'"
      ]
     },
     "execution_count": 2,
     "metadata": {},
     "output_type": "execute_result"
    }
   ],
   "source": [
    "s1 = \"Ault\" \n",
    "s2 = \"Kelly\"\n",
    "\n",
    "s3 = s1[0: len(s1) // 2] + s2 + s1[len(s1) // 2 : ]\n",
    "s3"
   ]
  },
  {
   "cell_type": "markdown",
   "id": "d67f1c19-46a8-487b-b138-e5e7a0984978",
   "metadata": {},
   "source": [
    "\n",
    "# Exercise 4: Arrange string characters such that lowercase letters should come first\n",
    "\n",
    "Given string contains a combination of the lower and upper case letters. Write a program to arrange the characters of a string so that all lowercase letters should come first.\n",
    "\n",
    "Given:\n",
    "str1 = PyNaTive\n",
    "\n",
    "Expected Output:\n",
    "yaivePNT\n"
   ]
  },
  {
   "cell_type": "code",
   "execution_count": null,
   "id": "967b60f7-7901-4d10-b3d2-e67d0ed40e04",
   "metadata": {},
   "outputs": [],
   "source": []
  },
  {
   "cell_type": "code",
   "execution_count": 3,
   "id": "6695a632-819a-4d0a-89d4-665fc1016e3c",
   "metadata": {},
   "outputs": [
    {
     "data": {
      "text/plain": [
       "'yaivePNT'"
      ]
     },
     "execution_count": 3,
     "metadata": {},
     "output_type": "execute_result"
    }
   ],
   "source": [
    "str1 = \"PyNaTive\"\n",
    "upper = \"\"\n",
    "lower = \"\"\n",
    "\n",
    "for i in range(len(str1)):\n",
    "    if str1[i].isupper():\n",
    "        upper = upper + str1[i]\n",
    "    else:\n",
    "        lower = lower + str1[i]\n",
    "\n",
    "str2 = lower + upper\n",
    "str2"
   ]
  },
  {
   "cell_type": "markdown",
   "id": "0f30f7eb-5079-49cf-ae1c-bdca09bb1683",
   "metadata": {},
   "source": [
    "\n",
    "# Exercise 5: Count all letters, digits, and special symbols from a given string\n",
    "\n",
    "Given:\n",
    "str1 = \"P@#yn26at^&i5ve\"\n",
    "\n",
    "Expected Outcome:\n",
    "\n",
    "Total counts of chars, digits, and symbols \n",
    "\n",
    "Chars = 8 \n",
    "Digits = 3 \n",
    "Symbol = 4\n"
   ]
  },
  {
   "cell_type": "code",
   "execution_count": 4,
   "id": "f6a19871-bc00-40ad-9ec0-e46c2eab2e48",
   "metadata": {},
   "outputs": [
    {
     "name": "stdout",
     "output_type": "stream",
     "text": [
      "Chars = 8\n",
      "Digits = 3\n",
      "Symbols = 4\n"
     ]
    }
   ],
   "source": [
    "str1 = \"P@#yn26at^&i5ve\"\n",
    "chars = 0\n",
    "digits = 0\n",
    "symbols = 0\n",
    "\n",
    "for i in range(len(str1)):\n",
    "    if str1[i].isalpha():\n",
    "        chars = chars + 1\n",
    "    elif str1[i].isdigit():\n",
    "        digits = digits + 1\n",
    "    else:\n",
    "        symbols = symbols + 1\n",
    "\n",
    "print(f\"Chars = {chars}\\nDigits = {digits}\\nSymbols = {symbols}\")"
   ]
  },
  {
   "cell_type": "markdown",
   "id": "3d618d4f-95fd-44d3-bcf7-d6756955786c",
   "metadata": {},
   "source": [
    "# Exercise 8: Find all occurrences of a substring in a given string by ignoring the case\n",
    "\n",
    "Write a program to find all occurrences of “USA” in a given string ignoring the case.\n",
    "\n",
    "**Given:**\n",
    "\n",
    "str1 = \"Welcome to USA. usa awesome, isn't it?\"\n",
    "\n",
    "**Expected Outcome:**\n",
    "\n",
    "The USA count is: 2\n"
   ]
  },
  {
   "cell_type": "code",
   "execution_count": 1,
   "id": "20223cd6-f627-4155-9975-e6ffdabc8cf0",
   "metadata": {},
   "outputs": [
    {
     "name": "stdout",
     "output_type": "stream",
     "text": [
      "Welcome to USA. usa awesome, isn't it?\n"
     ]
    }
   ],
   "source": [
    "str2 = \"Welcome to USA. usa awesome, isn't it?\"\n",
    "print(str2)"
   ]
  },
  {
   "cell_type": "markdown",
   "id": "09b4c225-df3a-4851-a47b-6ebc72d65302",
   "metadata": {},
   "source": [
    "\n",
    "# Exercise 9: Calculate the sum and average of the digits present in a string\n",
    "\n",
    "Given a string s1, write a program to return the sum and average of the digits that appear in the string, ignoring all other characters.\n",
    "\n",
    "**Given:**\n",
    "\n",
    "str1 = \"PYnative29@#8496\"\n",
    "\n",
    "**Expected Outcome:**\n",
    "\n",
    "Sum is: 38 \n",
    "\n",
    "Average is  6.333333333333333\n"
   ]
  },
  {
   "cell_type": "code",
   "execution_count": 3,
   "id": "c5b0d0dc-208d-4895-b38c-a7b6f76d16fd",
   "metadata": {},
   "outputs": [
    {
     "name": "stdout",
     "output_type": "stream",
     "text": [
      "Sum is: 38\n",
      "Average is: 6.333333333333333\n"
     ]
    }
   ],
   "source": [
    "str1 = \"PYnative29@#8496\"\n",
    "count = 0\n",
    "total = 0\n",
    "\n",
    "for i in range(len(str1)):\n",
    "    if str1[i].isdigit():\n",
    "        count = count + 1\n",
    "        total = total + int(str1[i])\n",
    "\n",
    "avg = total / count\n",
    "\n",
    "print(f\"Sum is: {total}\\nAverage is: {avg}\")"
   ]
  },
  {
   "cell_type": "markdown",
   "id": "53d87bbf-1b9c-40f7-9374-faac9ea55efe",
   "metadata": {},
   "source": [
    "\n",
    "# Exercise 10: Write a program to count occurrences of all characters within a string\n",
    "\n",
    "**Given:**\n",
    "\n",
    "str1 = \"Apple\"\n",
    "\n",
    "**Expected Outcome:**\n",
    "\n",
    "{'A': 1, 'p': 2, 'l': 1, 'e': 1}\n"
   ]
  },
  {
   "cell_type": "code",
   "execution_count": 5,
   "id": "c8236e90-d832-4192-8435-1d563616f17d",
   "metadata": {},
   "outputs": [
    {
     "data": {
      "text/plain": [
       "{'A': 1, 'p': 2, 'l': 1, 'e': 1}"
      ]
     },
     "execution_count": 5,
     "metadata": {},
     "output_type": "execute_result"
    }
   ],
   "source": [
    "str1 = \"Apple\"\n",
    "\n",
    "countDict = {}\n",
    "\n",
    "for i in range(len(str1)):\n",
    "    countDict[str1[i]] = countDict.get(str1[i], 0) + 1\n",
    "\n",
    "countDict"
   ]
  },
  {
   "cell_type": "markdown",
   "id": "a28f26ea-4429-498c-b81c-ad8d1f9bb716",
   "metadata": {},
   "source": [
    "\n",
    "# Exercise 15: Remove special symbols / punctuation from a string\n",
    "\n",
    "**Given:**\n",
    "\n",
    "str1 = \"/*Jon is @developer & musician\"\n",
    "\n",
    "**Expected Output:**\n",
    "\n",
    "\"Jon is developer musician\"\n"
   ]
  },
  {
   "cell_type": "code",
   "execution_count": 10,
   "id": "1e9a4372-1181-4901-acac-0d2a5a5844e6",
   "metadata": {},
   "outputs": [
    {
     "data": {
      "text/plain": [
       "'Jon is developer musician'"
      ]
     },
     "execution_count": 10,
     "metadata": {},
     "output_type": "execute_result"
    }
   ],
   "source": [
    "import re\n",
    "str1 = \"/*Jon is @developer & musician\"\n",
    "formattedStr = re.sub(r\"\\W+\", \" \",str1)\n",
    "formattedStr.strip()"
   ]
  },
  {
   "cell_type": "code",
   "execution_count": 15,
   "id": "f8968719-4c83-4270-9554-e21660208c43",
   "metadata": {},
   "outputs": [
    {
     "data": {
      "text/plain": [
       "'Jon is  developer   musician'"
      ]
     },
     "execution_count": 15,
     "metadata": {},
     "output_type": "execute_result"
    }
   ],
   "source": [
    "# Second way\n",
    "formattedStr = \"\"\n",
    "for i in range(len(str1)):\n",
    "    if str1[i].isalpha():\n",
    "       formattedStr = formattedStr + str1[i]\n",
    "    else:\n",
    "        formattedStr = formattedStr + \" \"\n",
    "formattedStr.strip()"
   ]
  },
  {
   "cell_type": "markdown",
   "id": "44ebdd8f-dfec-4f06-b304-4e3232dbd35b",
   "metadata": {},
   "source": [
    "# Exercise 16: Removal all characters from a string except integers\n",
    "\n",
    "**Given:**\n",
    "\n",
    "str1 = 'I am 25 years and 10 months old'\n",
    "\n",
    "**Expected Output:**\n",
    "\n",
    "2510"
   ]
  },
  {
   "cell_type": "code",
   "execution_count": 27,
   "id": "77ac4f15-c3df-4694-ba3b-7f5332de23ea",
   "metadata": {},
   "outputs": [
    {
     "data": {
      "text/plain": [
       "2510"
      ]
     },
     "execution_count": 27,
     "metadata": {},
     "output_type": "execute_result"
    }
   ],
   "source": [
    "str1 = 'I am 25 years and 10 months old'\n",
    "num = \"\"\n",
    "for i in range(len(str1)):\n",
    "    if str1[i].isdigit():\n",
    "        num = num + str1[i]\n",
    "num = int(num)\n",
    "\n",
    "num"
   ]
  },
  {
   "cell_type": "markdown",
   "id": "3ce39c8a-d7f2-47ea-9b8e-ac91b692c764",
   "metadata": {},
   "source": [
    "# Exercise 17: Find words with both alphabets and numbers\n",
    "\n",
    "Write a program to find words with both alphabets and numbers from an input string.\n",
    "\n",
    "**Given:**\n",
    "\n",
    "str1 = \"Emma25 is Data scientist50 and AI Expert\"\n",
    "\n",
    "**Expected Output:**\n",
    "\n",
    "Emma25\\\n",
    "scientist50"
   ]
  },
  {
   "cell_type": "code",
   "execution_count": 31,
   "id": "bc03788e-b7eb-46c9-90ac-20b1984e5cae",
   "metadata": {},
   "outputs": [
    {
     "data": {
      "text/plain": [
       "['Emma25', 'scientist50']"
      ]
     },
     "execution_count": 31,
     "metadata": {},
     "output_type": "execute_result"
    }
   ],
   "source": [
    "str1 = \"Emma25 is Data scientist50 and AI Expert\"\n",
    "\n",
    "words = str1.split()\n",
    "hasNum=[]\n",
    "\n",
    "for word in words:\n",
    "    for i in range(len(word)):\n",
    "        if word[i].isdigit():\n",
    "            hasNum.append(word)\n",
    "            break\n",
    "hasNum"
   ]
  },
  {
   "cell_type": "code",
   "execution_count": null,
   "id": "8dc19ead-9bad-4aee-8c08-0c28719f9d15",
   "metadata": {},
   "outputs": [],
   "source": []
  }
 ],
 "metadata": {
  "kernelspec": {
   "display_name": "Python [conda env:base] *",
   "language": "python",
   "name": "conda-base-py"
  },
  "language_info": {
   "codemirror_mode": {
    "name": "ipython",
    "version": 3
   },
   "file_extension": ".py",
   "mimetype": "text/x-python",
   "name": "python",
   "nbconvert_exporter": "python",
   "pygments_lexer": "ipython3",
   "version": "3.13.5"
  }
 },
 "nbformat": 4,
 "nbformat_minor": 5
}
