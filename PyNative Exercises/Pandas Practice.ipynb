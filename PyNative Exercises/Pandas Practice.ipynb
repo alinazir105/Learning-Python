{
 "cells": [
  {
   "cell_type": "markdown",
   "id": "1f1eb752-0e3e-4f65-9849-78722f6b62a0",
   "metadata": {},
   "source": [
    "# Exercise 1: From the given dataset print the first and last five rows"
   ]
  },
  {
   "cell_type": "code",
   "execution_count": 16,
   "id": "c461ee42-a67e-4ff8-8355-3b7f3bcd29c3",
   "metadata": {},
   "outputs": [],
   "source": [
    "import pandas as pd\n",
    "\n",
    "pd.set_option('display.width', 1500) # or a larger number depending on your screen\n",
    "pd.set_option('display.max_columns', None) # 'None' means show all columns"
   ]
  },
  {
   "cell_type": "code",
   "execution_count": 18,
   "id": "b5ad0e0c-e10e-41b5-a7fb-3e2b52728b18",
   "metadata": {},
   "outputs": [
    {
     "name": "stdout",
     "output_type": "stream",
     "text": [
      "   index      company   body-style  wheel-base  length engine-type num-of-cylinders  horsepower  average-mileage    price\n",
      "0      0  alfa-romero  convertible        88.6   168.8        dohc             four         111               21  13495.0\n",
      "1      1  alfa-romero  convertible        88.6   168.8        dohc             four         111               21  16500.0\n",
      "2      2  alfa-romero    hatchback        94.5   171.2        ohcv              six         154               19  16500.0\n",
      "3      3         audi        sedan        99.8   176.6         ohc             four         102               24  13950.0\n",
      "4      4         audi        sedan        99.4   176.6         ohc             five         115               18  17450.0\n",
      "    index     company body-style  wheel-base  length engine-type num-of-cylinders  horsepower  average-mileage    price\n",
      "56     81  volkswagen      sedan        97.3   171.7         ohc             four          85               27   7975.0\n",
      "57     82  volkswagen      sedan        97.3   171.7         ohc             four          52               37   7995.0\n",
      "58     86  volkswagen      sedan        97.3   171.7         ohc             four         100               26   9995.0\n",
      "59     87       volvo      sedan       104.3   188.8         ohc             four         114               23  12940.0\n",
      "60     88       volvo      wagon       104.3   188.8         ohc             four         114               23  13415.0\n"
     ]
    }
   ],
   "source": [
    "df = pd.read_csv(\"Automobile_data.csv\")\n",
    "print(df.head())\n",
    "print(df.tail())\n"
   ]
  },
  {
   "cell_type": "markdown",
   "id": "1911b7c0-dade-4de5-b73a-cb397f9e0dbe",
   "metadata": {},
   "source": []
  },
  {
   "cell_type": "markdown",
   "id": "83afbc56-f7fc-4466-91cb-06b1c4ebfbec",
   "metadata": {},
   "source": [
    "\n",
    "# Exercise 2: Clean the dataset and update the CSV file\n",
    "\n",
    "Replace all column values which contain ?, n.a, or NaN.\n"
   ]
  },
  {
   "cell_type": "code",
   "execution_count": 37,
   "id": "4d2e3f1f-ac53-4970-98f0-91e4a6f70446",
   "metadata": {},
   "outputs": [
    {
     "name": "stdout",
     "output_type": "stream",
     "text": [
      "    index company body-style  wheel-base  length engine-type num-of-cylinders  horsepower  average-mileage    price\n",
      "20     29   honda      sedan        96.5   169.1         ohc             four         100               25  10345.0\n",
      "21     30   isuzu      sedan        94.3   170.7         ohc             four          78               24   6785.0\n",
      "22     31   isuzu      sedan        94.5   155.9         ohc             four          70               38      NaN\n",
      "23     32   isuzu      sedan        94.5   155.9         ohc             four          70               38      NaN\n",
      "24     33  jaguar      sedan       113.0   199.6        dohc              six         176               15  32250.0\n",
      "25     34  jaguar      sedan       113.0   199.6        dohc              six         176               15  35550.0\n",
      "26     35  jaguar      sedan       102.0   191.7        ohcv           twelve         262               13  36000.0\n",
      "27     36   mazda  hatchback        93.1   159.1         ohc             four          68               30   5195.0\n",
      "28     37   mazda  hatchback        93.1   159.1         ohc             four          68               31   6095.0\n",
      "29     38   mazda  hatchback        93.1   159.1         ohc             four          68               31   6795.0\n"
     ]
    }
   ],
   "source": [
    "df = pd.read_csv(\"Automobile_data.csv\", na_values={\n",
    "    \"price\" : [\"?\", \"n.c\"]\n",
    "})\n",
    "df.to_csv(\"Automobile_data.csv\")\n",
    "print(df.iloc[20:30, :])"
   ]
  },
  {
   "cell_type": "code",
   "execution_count": null,
   "id": "d514788c-1be6-405a-8195-0b61ac991be8",
   "metadata": {},
   "outputs": [],
   "source": []
  },
  {
   "cell_type": "markdown",
   "id": "a607310b-9454-4ebd-a9a2-46f1ab6fff21",
   "metadata": {},
   "source": [
    "\n",
    "# Exercise 3: Find the most expensive car company name\n",
    "\n",
    "Print most expensive car’s company name and price.\n"
   ]
  },
  {
   "cell_type": "code",
   "execution_count": 35,
   "id": "0e8076d0-e3b7-4c2a-bd0a-ee6e2a672603",
   "metadata": {},
   "outputs": [
    {
     "data": {
      "text/html": [
       "<div>\n",
       "<style scoped>\n",
       "    .dataframe tbody tr th:only-of-type {\n",
       "        vertical-align: middle;\n",
       "    }\n",
       "\n",
       "    .dataframe tbody tr th {\n",
       "        vertical-align: top;\n",
       "    }\n",
       "\n",
       "    .dataframe thead th {\n",
       "        text-align: right;\n",
       "    }\n",
       "</style>\n",
       "<table border=\"1\" class=\"dataframe\">\n",
       "  <thead>\n",
       "    <tr style=\"text-align: right;\">\n",
       "      <th></th>\n",
       "      <th>company</th>\n",
       "      <th>price</th>\n",
       "    </tr>\n",
       "  </thead>\n",
       "  <tbody>\n",
       "    <tr>\n",
       "      <th>35</th>\n",
       "      <td>mercedes-benz</td>\n",
       "      <td>45400.0</td>\n",
       "    </tr>\n",
       "  </tbody>\n",
       "</table>\n",
       "</div>"
      ],
      "text/plain": [
       "          company    price\n",
       "35  mercedes-benz  45400.0"
      ]
     },
     "execution_count": 35,
     "metadata": {},
     "output_type": "execute_result"
    }
   ],
   "source": [
    "df = df[[\"company\", \"price\"]][df.price == df['price'].max()] \n",
    "df\n"
   ]
  },
  {
   "cell_type": "code",
   "execution_count": null,
   "id": "c9f45e3f-5e6e-4991-a18a-5ed4d0cb4244",
   "metadata": {},
   "outputs": [],
   "source": []
  },
  {
   "cell_type": "markdown",
   "id": "9f7768a9-ea95-4111-9ffd-ff2ae995bcb7",
   "metadata": {},
   "source": [
    "\n",
    "# Exercise 4: Print All Toyota Cars details\n"
   ]
  },
  {
   "cell_type": "code",
   "execution_count": 41,
   "id": "277e3e41-b14a-4313-97e1-9b67cf45eac6",
   "metadata": {},
   "outputs": [
    {
     "data": {
      "text/html": [
       "<div>\n",
       "<style scoped>\n",
       "    .dataframe tbody tr th:only-of-type {\n",
       "        vertical-align: middle;\n",
       "    }\n",
       "\n",
       "    .dataframe tbody tr th {\n",
       "        vertical-align: top;\n",
       "    }\n",
       "\n",
       "    .dataframe thead th {\n",
       "        text-align: right;\n",
       "    }\n",
       "</style>\n",
       "<table border=\"1\" class=\"dataframe\">\n",
       "  <thead>\n",
       "    <tr style=\"text-align: right;\">\n",
       "      <th></th>\n",
       "      <th>Unnamed: 0</th>\n",
       "      <th>index</th>\n",
       "      <th>company</th>\n",
       "      <th>body-style</th>\n",
       "      <th>wheel-base</th>\n",
       "      <th>length</th>\n",
       "      <th>engine-type</th>\n",
       "      <th>num-of-cylinders</th>\n",
       "      <th>horsepower</th>\n",
       "      <th>average-mileage</th>\n",
       "      <th>price</th>\n",
       "    </tr>\n",
       "  </thead>\n",
       "  <tbody>\n",
       "    <tr>\n",
       "      <th>48</th>\n",
       "      <td>48</td>\n",
       "      <td>66</td>\n",
       "      <td>toyota</td>\n",
       "      <td>hatchback</td>\n",
       "      <td>95.7</td>\n",
       "      <td>158.7</td>\n",
       "      <td>ohc</td>\n",
       "      <td>four</td>\n",
       "      <td>62</td>\n",
       "      <td>35</td>\n",
       "      <td>5348.0</td>\n",
       "    </tr>\n",
       "    <tr>\n",
       "      <th>49</th>\n",
       "      <td>49</td>\n",
       "      <td>67</td>\n",
       "      <td>toyota</td>\n",
       "      <td>hatchback</td>\n",
       "      <td>95.7</td>\n",
       "      <td>158.7</td>\n",
       "      <td>ohc</td>\n",
       "      <td>four</td>\n",
       "      <td>62</td>\n",
       "      <td>31</td>\n",
       "      <td>6338.0</td>\n",
       "    </tr>\n",
       "    <tr>\n",
       "      <th>50</th>\n",
       "      <td>50</td>\n",
       "      <td>68</td>\n",
       "      <td>toyota</td>\n",
       "      <td>hatchback</td>\n",
       "      <td>95.7</td>\n",
       "      <td>158.7</td>\n",
       "      <td>ohc</td>\n",
       "      <td>four</td>\n",
       "      <td>62</td>\n",
       "      <td>31</td>\n",
       "      <td>6488.0</td>\n",
       "    </tr>\n",
       "    <tr>\n",
       "      <th>51</th>\n",
       "      <td>51</td>\n",
       "      <td>69</td>\n",
       "      <td>toyota</td>\n",
       "      <td>wagon</td>\n",
       "      <td>95.7</td>\n",
       "      <td>169.7</td>\n",
       "      <td>ohc</td>\n",
       "      <td>four</td>\n",
       "      <td>62</td>\n",
       "      <td>31</td>\n",
       "      <td>6918.0</td>\n",
       "    </tr>\n",
       "    <tr>\n",
       "      <th>52</th>\n",
       "      <td>52</td>\n",
       "      <td>70</td>\n",
       "      <td>toyota</td>\n",
       "      <td>wagon</td>\n",
       "      <td>95.7</td>\n",
       "      <td>169.7</td>\n",
       "      <td>ohc</td>\n",
       "      <td>four</td>\n",
       "      <td>62</td>\n",
       "      <td>27</td>\n",
       "      <td>7898.0</td>\n",
       "    </tr>\n",
       "    <tr>\n",
       "      <th>53</th>\n",
       "      <td>53</td>\n",
       "      <td>71</td>\n",
       "      <td>toyota</td>\n",
       "      <td>wagon</td>\n",
       "      <td>95.7</td>\n",
       "      <td>169.7</td>\n",
       "      <td>ohc</td>\n",
       "      <td>four</td>\n",
       "      <td>62</td>\n",
       "      <td>27</td>\n",
       "      <td>8778.0</td>\n",
       "    </tr>\n",
       "    <tr>\n",
       "      <th>54</th>\n",
       "      <td>54</td>\n",
       "      <td>79</td>\n",
       "      <td>toyota</td>\n",
       "      <td>wagon</td>\n",
       "      <td>104.5</td>\n",
       "      <td>187.8</td>\n",
       "      <td>dohc</td>\n",
       "      <td>six</td>\n",
       "      <td>156</td>\n",
       "      <td>19</td>\n",
       "      <td>15750.0</td>\n",
       "    </tr>\n",
       "  </tbody>\n",
       "</table>\n",
       "</div>"
      ],
      "text/plain": [
       "    Unnamed: 0  index company body-style  wheel-base  length engine-type num-of-cylinders  horsepower  average-mileage    price\n",
       "48          48     66  toyota  hatchback        95.7   158.7         ohc             four          62               35   5348.0\n",
       "49          49     67  toyota  hatchback        95.7   158.7         ohc             four          62               31   6338.0\n",
       "50          50     68  toyota  hatchback        95.7   158.7         ohc             four          62               31   6488.0\n",
       "51          51     69  toyota      wagon        95.7   169.7         ohc             four          62               31   6918.0\n",
       "52          52     70  toyota      wagon        95.7   169.7         ohc             four          62               27   7898.0\n",
       "53          53     71  toyota      wagon        95.7   169.7         ohc             four          62               27   8778.0\n",
       "54          54     79  toyota      wagon       104.5   187.8        dohc              six         156               19  15750.0"
      ]
     },
     "execution_count": 41,
     "metadata": {},
     "output_type": "execute_result"
    }
   ],
   "source": [
    "df = pd.read_csv(\"Automobile_data.csv\")\n",
    "df = df[df.company == 'toyota']\n",
    "df"
   ]
  },
  {
   "cell_type": "code",
   "execution_count": null,
   "id": "5f6d6dfe-4204-44c0-a68a-05e13d6c174a",
   "metadata": {},
   "outputs": [],
   "source": []
  },
  {
   "cell_type": "markdown",
   "id": "368489c8-83bf-4b46-8fa6-2a2832879906",
   "metadata": {},
   "source": [
    "\n",
    "# Exercise 5: Count total cars per company\n"
   ]
  },
  {
   "cell_type": "code",
   "execution_count": 44,
   "id": "a706ff8d-9310-43b8-9380-4a1b676f46d1",
   "metadata": {},
   "outputs": [
    {
     "data": {
      "text/plain": [
       "company\n",
       "toyota           7\n",
       "bmw              6\n",
       "mazda            5\n",
       "nissan           5\n",
       "audi             4\n",
       "mercedes-benz    4\n",
       "mitsubishi       4\n",
       "volkswagen       4\n",
       "alfa-romero      3\n",
       "chevrolet        3\n",
       "honda            3\n",
       "isuzu            3\n",
       "jaguar           3\n",
       "porsche          3\n",
       "dodge            2\n",
       "volvo            2\n",
       "Name: count, dtype: int64"
      ]
     },
     "execution_count": 44,
     "metadata": {},
     "output_type": "execute_result"
    }
   ],
   "source": [
    "df = pd.read_csv(\"Automobile_data.csv\")\n",
    "df['company'].value_counts()"
   ]
  },
  {
   "cell_type": "code",
   "execution_count": null,
   "id": "39bae9b8-6172-4576-9fc8-06811ae4c02e",
   "metadata": {},
   "outputs": [],
   "source": []
  },
  {
   "cell_type": "markdown",
   "id": "f4e086f8-94a0-4274-bfab-c142a6a8685f",
   "metadata": {},
   "source": [
    "\n",
    "# Exercise 6: Find each company’s Higesht price car\n"
   ]
  },
  {
   "cell_type": "code",
   "execution_count": 47,
   "id": "a2abf143-030d-4d8d-817a-0d16721ab566",
   "metadata": {},
   "outputs": [
    {
     "data": {
      "text/html": [
       "<div>\n",
       "<style scoped>\n",
       "    .dataframe tbody tr th:only-of-type {\n",
       "        vertical-align: middle;\n",
       "    }\n",
       "\n",
       "    .dataframe tbody tr th {\n",
       "        vertical-align: top;\n",
       "    }\n",
       "\n",
       "    .dataframe thead th {\n",
       "        text-align: right;\n",
       "    }\n",
       "</style>\n",
       "<table border=\"1\" class=\"dataframe\">\n",
       "  <thead>\n",
       "    <tr style=\"text-align: right;\">\n",
       "      <th></th>\n",
       "      <th>company</th>\n",
       "      <th>price</th>\n",
       "    </tr>\n",
       "  </thead>\n",
       "  <tbody>\n",
       "    <tr>\n",
       "      <th>35</th>\n",
       "      <td>mercedes-benz</td>\n",
       "      <td>45400.0</td>\n",
       "    </tr>\n",
       "  </tbody>\n",
       "</table>\n",
       "</div>"
      ],
      "text/plain": [
       "          company    price\n",
       "35  mercedes-benz  45400.0"
      ]
     },
     "execution_count": 47,
     "metadata": {},
     "output_type": "execute_result"
    }
   ],
   "source": [
    "car"
   ]
  },
  {
   "cell_type": "code",
   "execution_count": null,
   "id": "2f935e54-a128-4eef-ab5f-35c79211ae21",
   "metadata": {},
   "outputs": [],
   "source": []
  }
 ],
 "metadata": {
  "kernelspec": {
   "display_name": "Python [conda env:base] *",
   "language": "python",
   "name": "conda-base-py"
  },
  "language_info": {
   "codemirror_mode": {
    "name": "ipython",
    "version": 3
   },
   "file_extension": ".py",
   "mimetype": "text/x-python",
   "name": "python",
   "nbconvert_exporter": "python",
   "pygments_lexer": "ipython3",
   "version": "3.13.5"
  }
 },
 "nbformat": 4,
 "nbformat_minor": 5
}
